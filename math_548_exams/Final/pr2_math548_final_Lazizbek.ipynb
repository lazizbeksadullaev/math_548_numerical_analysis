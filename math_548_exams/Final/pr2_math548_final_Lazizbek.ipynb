{
  "nbformat": 4,
  "nbformat_minor": 0,
  "metadata": {
    "colab": {
      "provenance": []
    },
    "kernelspec": {
      "name": "python3",
      "display_name": "Python 3"
    },
    "language_info": {
      "name": "python"
    }
  },
  "cells": [
    {
      "cell_type": "markdown",
      "source": [
        "# Math 548, Final Exam. Problem 1. LS"
      ],
      "metadata": {
        "id": "FJ4ONah9v6z_"
      }
    },
    {
      "cell_type": "markdown",
      "source": [
        "(a)\n",
        "\n",
        "For which values of b, the matrix A is positive definite? ( answer is on paper)"
      ],
      "metadata": {
        "id": "2Y78nToZBED_"
      }
    },
    {
      "cell_type": "markdown",
      "source": [
        "\n",
        "```\n",
        "     [ 1   -1/2  b]\n",
        "\n",
        "A =  [-1/2  2 -1/2]\n",
        "\n",
        "     [ b  -1/2  2 ]\n",
        "```"
      ],
      "metadata": {
        "id": "7My9xnXEFPnK"
      }
    },
    {
      "cell_type": "markdown",
      "source": [
        "(b) Find the LU decomposition of this matrix when b=0, using the Gaussian elimination method. Write down the matrices L and U. Explain and justify every step in the process."
      ],
      "metadata": {
        "id": "aJfP3qUvFfV1"
      }
    },
    {
      "cell_type": "markdown",
      "source": [
        "\n",
        "1.   \n",
        "```\n",
        "     [ 1   -1/2  b][x1]   [ 0]\n",
        "\n",
        "     [-1/2  2 -1/2][x2] = [ 0]\n",
        "\n",
        "     [ b  -1/2  2 ][x3]   [ 0]\n",
        "```"
      ],
      "metadata": {
        "id": "QzdN0RPvwSu1"
      }
    },
    {
      "cell_type": "markdown",
      "source": [
        "(c)\n",
        "\n",
        "Now solve the system of equations given by"
      ],
      "metadata": {
        "id": "TTuvTkErF9dc"
      }
    },
    {
      "cell_type": "markdown",
      "source": [
        "2.   \n",
        "```\n",
        "     [ 1   -1/2  b][x1]   [ 2]\n",
        "\n",
        "     [-1/2  2 -1/2][x2] = [ 3]\n",
        "\n",
        "     [ b  -1/2  2 ][x3]   [14]\n",
        "```"
      ],
      "metadata": {
        "id": "i2L1_aW5F7tj"
      }
    },
    {
      "cell_type": "markdown",
      "source": [
        "# (b). I am introducing b = [0, 0, 0] RHS vector to perform LU decompositon on the matrix A"
      ],
      "metadata": {
        "id": "2-LahkizRlFZ"
      }
    },
    {
      "cell_type": "code",
      "source": [
        "import numpy as np\n",
        "\n",
        "def lu_decomposition(A):\n",
        "    # Function to perform LU decomposition of matrix A\n",
        "    n = len(A)\n",
        "    L = np.zeros((n, n))  # Initialize lower triangular matrix L\n",
        "    U = np.zeros((n, n))  # Initialize upper triangular matrix U\n",
        "    P = np.identity(n)    # Initialize permutation matrix P\n",
        "\n",
        "    # Main loop for LU decomposition with partial pivoting\n",
        "    for i in range(n):\n",
        "        # Partial pivoting: find pivot row with maximum absolute value\n",
        "        # pivot_row = max(range(i, n), key=lambda k: abs(A[k][i]))\n",
        "\n",
        "        pivot_row_max_value = -1  # Initialize with a minimum value\n",
        "        for k in range(i, n):  # Iterate through rows from i to n-1\n",
        "            absolute_value = abs(A[k][i])  # Compute the absolute value of element at column i and row k\n",
        "            if absolute_value > pivot_row_max_value:  # Check if the absolute value is greater than current maximum\n",
        "                pivot_row_max_value = absolute_value  # Update maximum absolute value\n",
        "                pivot_row = k  # Update the row index with the maximum absolute value\n",
        "\n",
        "        # Swap current row with pivot row in A, P\n",
        "        A[[i, pivot_row]] = A[[pivot_row, i]]\n",
        "        P[[i, pivot_row]] = P[[pivot_row, i]]\n",
        "\n",
        "        # Set diagonal of L to 1\n",
        "        L[i][i] = 1\n",
        "        # Calculate entries of U and L using formulae for LU decomposition\n",
        "        for j in range(i, n):\n",
        "            U[i][j] = A[i][j] - sum(L[i][k] * U[k][j] for k in range(i))\n",
        "        for j in range(i + 1, n):\n",
        "            L[j][i] = (A[j][i] - sum(L[j][k] * U[k][i] for k in range(i))) / U[i][i]\n",
        "\n",
        "    return P, L, U\n",
        "\n",
        "def forward_substitution(L, b):\n",
        "    # Function to perform forward substitution to solve Ly = b\n",
        "    n = len(b)\n",
        "    y = np.zeros(n)  # Initialize solution vector y\n",
        "    for i in range(n):\n",
        "        # Compute y[i] using forward substitution formula\n",
        "        y[i] = b[i] - np.dot(L[i, :i], y[:i])\n",
        "    return y\n",
        "\n",
        "def back_substitution(U, y):\n",
        "    # Function to perform back substitution to solve Ux = y\n",
        "    n = len(y)\n",
        "    x = np.zeros(n)  # Initialize solution vector x\n",
        "    for i in range(n - 1, -1, -1):\n",
        "        # Compute x[i] using back substitution formula\n",
        "        x[i] = (y[i] - np.dot(U[i, i+1:], x[i+1:])) / U[i, i]\n",
        "    return x\n",
        "\n",
        "# Given matrix A and vector b\n",
        "A = np.array([[ 2, -1/2,  0], [-1/2,  2, -1/2], [ 0, -1/2,  2]])\n",
        "b = np.array([ 0,  0,  0])\n",
        "\n",
        "# Keep the original A and b\n",
        "original_A = A\n",
        "original_b = b\n",
        "\n",
        "# Perform LU decomposition of A\n",
        "P, L, U = lu_decomposition(A)\n",
        "\n",
        "# Permute b according to pivot matrix P\n",
        "b_permuted = np.dot(P, b)\n",
        "\n",
        "# Solve Ly = b_permuted using forward substitution\n",
        "y = forward_substitution(L, b_permuted)\n",
        "\n",
        "# Solve Ux = y using back substitution\n",
        "x = back_substitution(U, y)\n",
        "\n",
        "# Verify if A = LU\n",
        "is_A_LU = np.allclose(original_A, np.dot(L, U))\n",
        "\n",
        "# Calculate the determinant of A\n",
        "det_A = np.linalg.det(original_A)\n",
        "\n",
        "# Construct the augmented matrix [A|b]\n",
        "augmented_matrix = np.hstack((original_A, np.expand_dims(original_b, axis=1)))\n",
        "\n",
        "# Print all intermediate and final results\n",
        "print(\"\\nAugmented matrix [A|b]:\")\n",
        "print(augmented_matrix)\n",
        "print(\"\\nSolution vector x:\")\n",
        "print(x)\n",
        "print(\"\\nPermutation matrix P:\")\n",
        "print(P)\n",
        "print(\"\\nLower triangular matrix L:\")\n",
        "print(L)\n",
        "print(\"\\nUpper triangular matrix U:\")\n",
        "print(U)\n",
        "print(\"\\nIs A equal to LU:\", is_A_LU)\n",
        "print(\"\\nDeterminant of A:\", det_A)"
      ],
      "metadata": {
        "colab": {
          "base_uri": "https://localhost:8080/"
        },
        "id": "QLhvFry9ODO7",
        "outputId": "d15789fb-bafb-4265-b9aa-0c21c60231dc"
      },
      "execution_count": 1,
      "outputs": [
        {
          "output_type": "stream",
          "name": "stdout",
          "text": [
            "\n",
            "Augmented matrix [A|b]:\n",
            "[[ 2.  -0.5  0.   0. ]\n",
            " [-0.5  2.  -0.5  0. ]\n",
            " [ 0.  -0.5  2.   0. ]]\n",
            "\n",
            "Solution vector x:\n",
            "[0. 0. 0.]\n",
            "\n",
            "Permutation matrix P:\n",
            "[[1. 0. 0.]\n",
            " [0. 1. 0.]\n",
            " [0. 0. 1.]]\n",
            "\n",
            "Lower triangular matrix L:\n",
            "[[ 1.          0.          0.        ]\n",
            " [-0.25        1.          0.        ]\n",
            " [ 0.         -0.26666667  1.        ]]\n",
            "\n",
            "Upper triangular matrix U:\n",
            "[[ 2.         -0.5         0.        ]\n",
            " [ 0.          1.875      -0.5       ]\n",
            " [ 0.          0.          1.86666667]]\n",
            "\n",
            "Is A equal to LU: True\n",
            "\n",
            "Determinant of A: 6.999999999999998\n"
          ]
        }
      ]
    },
    {
      "cell_type": "markdown",
      "source": [
        "# **(c) Now solve the system of equations given by**"
      ],
      "metadata": {
        "id": "pgmFEer4sakF"
      }
    },
    {
      "cell_type": "code",
      "source": [
        "import numpy as np\n",
        "\n",
        "def lu_decomposition(A):\n",
        "    # Function to perform LU decomposition of matrix A\n",
        "    n = len(A)\n",
        "    L = np.zeros((n, n))  # Initialize lower triangular matrix L\n",
        "    U = np.zeros((n, n))  # Initialize upper triangular matrix U\n",
        "    P = np.identity(n)    # Initialize permutation matrix P\n",
        "\n",
        "    # Main loop for LU decomposition with partial pivoting\n",
        "    for i in range(n):\n",
        "        # Partial pivoting: find pivot row with maximum absolute value\n",
        "        # pivot_row = max(range(i, n), key=lambda k: abs(A[k][i]))\n",
        "\n",
        "        pivot_row_max_value = -1  # Initialize with a minimum value\n",
        "        for k in range(i, n):  # Iterate through rows from i to n-1\n",
        "            absolute_value = abs(A[k][i])  # Compute the absolute value of element at column i and row k\n",
        "            if absolute_value > pivot_row_max_value:  # Check if the absolute value is greater than current maximum\n",
        "                pivot_row_max_value = absolute_value  # Update maximum absolute value\n",
        "                pivot_row = k  # Update the row index with the maximum absolute value\n",
        "\n",
        "        # Swap current row with pivot row in A, P\n",
        "        A[[i, pivot_row]] = A[[pivot_row, i]]\n",
        "        P[[i, pivot_row]] = P[[pivot_row, i]]\n",
        "\n",
        "        # Set diagonal of L to 1\n",
        "        L[i][i] = 1\n",
        "        # Calculate entries of U and L using formulae for LU decomposition\n",
        "        for j in range(i, n):\n",
        "            U[i][j] = A[i][j] - sum(L[i][k] * U[k][j] for k in range(i))\n",
        "        for j in range(i + 1, n):\n",
        "            L[j][i] = (A[j][i] - sum(L[j][k] * U[k][i] for k in range(i))) / U[i][i]\n",
        "\n",
        "    return P, L, U\n",
        "\n",
        "def forward_substitution(L, b):\n",
        "    # Function to perform forward substitution to solve Ly = b\n",
        "    n = len(b)\n",
        "    y = np.zeros(n)  # Initialize solution vector y\n",
        "    for i in range(n):\n",
        "        # Compute y[i] using forward substitution formula\n",
        "        y[i] = b[i] - np.dot(L[i, :i], y[:i])\n",
        "    return y\n",
        "\n",
        "def back_substitution(U, y):\n",
        "    # Function to perform back substitution to solve Ux = y\n",
        "    n = len(y)\n",
        "    x = np.zeros(n)  # Initialize solution vector x\n",
        "    for i in range(n - 1, -1, -1):\n",
        "        # Compute x[i] using back substitution formula\n",
        "        x[i] = (y[i] - np.dot(U[i, i+1:], x[i+1:])) / U[i, i]\n",
        "    return x\n",
        "\n",
        "# Given matrix A and vector b\n",
        "A = np.array([[ 2, -1/2,  0], [-1/2,  2, -1/2], [ 0, -1/2,  2]])\n",
        "b = np.array([ 2,  3,  14])\n",
        "\n",
        "# Keep the original A and b\n",
        "original_A = A\n",
        "original_b = b\n",
        "\n",
        "# Perform LU decomposition of A\n",
        "P, L, U = lu_decomposition(A)\n",
        "\n",
        "# Permute b according to pivot matrix P\n",
        "b_permuted = np.dot(P, b)\n",
        "\n",
        "# Solve Ly = b_permuted using forward substitution\n",
        "y = forward_substitution(L, b_permuted)\n",
        "\n",
        "# Solve Ux = y using back substitution\n",
        "x = back_substitution(U, y)\n",
        "\n",
        "# Verify if A = LU\n",
        "is_A_LU = np.allclose(original_A, np.dot(L, U))\n",
        "\n",
        "# Calculate the determinant of A\n",
        "det_A = np.linalg.det(original_A)\n",
        "\n",
        "# Construct the augmented matrix [A|b]\n",
        "augmented_matrix = np.hstack((original_A, np.expand_dims(original_b, axis=1)))\n",
        "\n",
        "# Print all intermediate and final results\n",
        "print(\"\\nAugmented matrix [A|b]:\")\n",
        "print(augmented_matrix)\n",
        "print(\"\\nSolution vector x:\")\n",
        "print(x)\n",
        "print(\"\\nPermutation matrix P:\")\n",
        "print(P)\n",
        "print(\"\\nLower triangular matrix L:\")\n",
        "print(L)\n",
        "print(\"\\nUpper triangular matrix U:\")\n",
        "print(U)\n",
        "print(\"\\nIs A equal to LU:\", is_A_LU)\n",
        "print(\"\\nDeterminant of A:\", det_A)"
      ],
      "metadata": {
        "colab": {
          "base_uri": "https://localhost:8080/"
        },
        "id": "ekPxYS_aD2GC",
        "outputId": "bf1ae260-7152-42d9-ef26-4a0464d8e5c8"
      },
      "execution_count": 2,
      "outputs": [
        {
          "output_type": "stream",
          "name": "stdout",
          "text": [
            "\n",
            "Augmented matrix [A|b]:\n",
            "[[ 2.  -0.5  0.   2. ]\n",
            " [-0.5  2.  -0.5  3. ]\n",
            " [ 0.  -0.5  2.  14. ]]\n",
            "\n",
            "Solution vector x:\n",
            "[2. 4. 8.]\n",
            "\n",
            "Permutation matrix P:\n",
            "[[1. 0. 0.]\n",
            " [0. 1. 0.]\n",
            " [0. 0. 1.]]\n",
            "\n",
            "Lower triangular matrix L:\n",
            "[[ 1.          0.          0.        ]\n",
            " [-0.25        1.          0.        ]\n",
            " [ 0.         -0.26666667  1.        ]]\n",
            "\n",
            "Upper triangular matrix U:\n",
            "[[ 2.         -0.5         0.        ]\n",
            " [ 0.          1.875      -0.5       ]\n",
            " [ 0.          0.          1.86666667]]\n",
            "\n",
            "Is A equal to LU: True\n",
            "\n",
            "Determinant of A: 6.999999999999998\n"
          ]
        }
      ]
    },
    {
      "cell_type": "code",
      "source": [
        "# !sudo apt-get install texlive-xetex texlive-fonts-recommended texlive-plain-generic"
      ],
      "metadata": {
        "id": "5K6JDiLwvj6M"
      },
      "execution_count": 4,
      "outputs": []
    },
    {
      "cell_type": "code",
      "source": [
        "# !jupyter nbconvert --to pdf /content/Math548_hw7_Lazizbek.ipynb"
      ],
      "metadata": {
        "id": "UXWMiAJeIEYp"
      },
      "execution_count": 5,
      "outputs": []
    }
  ]
}