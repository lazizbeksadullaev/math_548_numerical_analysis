{
  "nbformat": 4,
  "nbformat_minor": 0,
  "metadata": {
    "colab": {
      "provenance": []
    },
    "kernelspec": {
      "name": "python3",
      "display_name": "Python 3"
    },
    "language_info": {
      "name": "python"
    }
  },
  "cells": [
    {
      "cell_type": "markdown",
      "source": [
        "# Math 548, Final Exam. Problem 2. LS"
      ],
      "metadata": {
        "id": "pilwp6ZoeC_R"
      }
    },
    {
      "cell_type": "markdown",
      "source": [
        "**Problem 1**\n",
        "<p align=\"justify\">\n",
        "You would like to solve the initial value problem dy/dx = 4y (1-y), y (0) =1/2. Write down a discrete numerical method whose exact solution will be the same as the exact solution of the given differential equation. Find both exact solutions (the one for the discrete method and the one for the differential equation) and compare to justify.\n",
        "\n",
        "<p>"
      ],
      "metadata": {
        "id": "N-Pc6oAg_UcE"
      }
    },
    {
      "cell_type": "markdown",
      "source": [
        "**Problem 2**\n",
        "<p align=\"justify\">\n",
        "(a) If you are to describe yourself as a mathematical function or a mathematical concept, what will it be? Explain why?\n",
        "<p>"
      ],
      "metadata": {
        "id": "4uR9XlxPnLDt"
      }
    },
    {
      "cell_type": "markdown",
      "source": [
        "<p align=\"justify\">\n",
        "If I were to characterize myself using a mathematical concept, I would liken myself to a transformation. However, it's important to note that this transformation may not be strictly linear; rather, it could possess nonlinear characteristics. This analogy stems from the realization that, much like a transformation in mathematics, I continually process various inputs - such as opportunities and resources - across different roles in life, be it as a student, an employee, a son, a friend, or a parent, with the aim of generating value for society and the environment.\n",
        "<p align=\"justify\">\n",
        "The complexity inherent in life's experiences often introduces nonlinear elements into this transformation process. As time progresses, the effects of these inputs accumulate, resulting in outcomes that may not be easily reversible. Consequently, it's not always feasible to revert the outcomes back to their original states within the domain space.\n",
        "<p align=\"justify\">\n",
        "Nevertheless, I remain committed to utilizing these inputs effectively and achieving success consistently, without dwelling on the past or harboring regrets about returning things to their previous states.  It's all about moving forward with determination and optimism."
      ],
      "metadata": {
        "id": "XtCkDuDppEV3"
      }
    },
    {
      "cell_type": "markdown",
      "source": [
        "**(b) What is your take away from this class?**"
      ],
      "metadata": {
        "id": "_dLSjsvOnzYN"
      }
    },
    {
      "cell_type": "markdown",
      "source": [
        "<p align=\"justify\">\n",
        "Before taking this class, I lacked a comprehensive understanding of rates and convergence conditions for various types of iterations. For instance, I was unfamiliar with the importance of selecting an initial starting point\n",
        "x0  based on  |g'(x0)| < 1, and the relationship between fixed-point iterations and Newton's method. Additionally, I had limited knowledge regarding conditions for matrix computations. Through this course, I have gained valuable insights into the applications of norms and spectral radius, particularly in assessing the rate of convergence.\n",
        "<p align=\"justify\">\n",
        "Moreover, coming into Ordinary Differential Equations (ODEs) has been particularly captivating. Exploring concepts such as order and stability, as well as understanding the intricacies of convergence conditions, has been enlightening. I am intrigued by the potential applications of these principles. Furthermore, while discussing ODEs, I find the concepts of order and stability equally fascinating.\n",
        "<p align=\"justify\">\n",
        "I wish we could further explore Partial Differential Equations (PDEs) in the future, as well as to deepen my understanding of stability and order conditions in this domain. In summary, if I were to encapsulate my key takeaways from this course in two words, they would be \"ORDER\" and \"STABILITY\" of iterations.\n",
        "<p align=\"justify\">\n",
        "Thank you, Professor, for your efforts in elucidating these concepts and making them accessible to us."
      ],
      "metadata": {
        "id": "Rl-5m-ieoLVh"
      }
    },
    {
      "cell_type": "code",
      "source": [
        "# To download\n",
        "# !sudo apt-get install texlive-xetex texlive-fonts-recommended texlive-plain-generic\n",
        "# !jupyter nbconvert --to pdf /content/pr1_i_math548_midterm_Lazizbek.ipynb"
      ],
      "metadata": {
        "id": "WE3lssLbkVlb"
      },
      "execution_count": null,
      "outputs": []
    }
  ]
}