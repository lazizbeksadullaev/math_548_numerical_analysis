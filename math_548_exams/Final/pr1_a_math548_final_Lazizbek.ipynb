{
  "nbformat": 4,
  "nbformat_minor": 0,
  "metadata": {
    "colab": {
      "provenance": []
    },
    "kernelspec": {
      "name": "python3",
      "display_name": "Python 3"
    },
    "language_info": {
      "name": "python"
    }
  },
  "cells": [
    {
      "cell_type": "markdown",
      "source": [
        "# Math 548, Final Exam. Problem 1. LS"
      ],
      "metadata": {
        "id": "pilwp6ZoeC_R"
      }
    },
    {
      "cell_type": "markdown",
      "source": [
        "**Problem 1**\n",
        "\n",
        "(a) Use the Newton's method for finding a root of x^3- 3x^2 + x + 3 with the starting value of x0 = 1. Comment on what you observe. If the observation needs any improvement, how will you go about it?\n",
        "\n",
        "(b) Find (3)^(1/2) using the fixed-point iteration method"
      ],
      "metadata": {
        "id": "N-Pc6oAg_UcE"
      }
    },
    {
      "cell_type": "markdown",
      "source": [
        "#In which interval (a) has a solution? Determine all of the solution intervals using the sign comparison of the function at boundaries of the intervals [-b, a] or [c, b] starting symmetrically around both sides of the origin, 0, with a tolerance b as 10^(-3)"
      ],
      "metadata": {
        "id": "EChmkxRMU5GH"
      }
    },
    {
      "cell_type": "code",
      "source": [
        "# In which interval it has a solution?\n",
        "\n",
        "import numpy as np\n",
        "import math\n",
        "\n",
        "# f(x) = (x)**3- 3*(x)**2 + (x) + 3\n",
        "f0 =  (0)**3- 3*(0)**2 + (0) + 3 # f0 = 3\n",
        "frightb = f0\n",
        "fleftb = f0\n",
        "fa = f0\n",
        "fc = f0\n",
        "solution_ints = list()\n",
        "b = 0\n",
        "a = 0\n",
        "c = 0\n",
        "# we'll run through [-b, a] or [c, b]\n",
        "\n",
        "for b in np.arange(0.0, 2.0, 0.001):\n",
        "  frightb = (b)**3- 3*(b)**2 + (b) + 3\n",
        "  fleftb = (-b)**3- 3*(-b)**2 + (-b) + 3\n",
        "\n",
        "  if np.sign(fleftb) * np.sign(fa) <= 0: # fleftb <= 0 as fa = f0 = 21.12 > 0:\n",
        "    # print(\" = b \", b, \";\", \"fleftb = \", fleftb)\n",
        "    solution_ints.append([-b, a])\n",
        "    a = -b\n",
        "    fa = fleftb\n",
        "\n",
        "  if np.sign(frightb) * np.sign(fc) <= 0: # frightb <= 0 as fc = f0 = 21.12 > 0:\n",
        "    # print(\"b = \", b, \";\", \"frightb = \", frightb)\n",
        "    solution_ints.append([c, b])\n",
        "    c = b\n",
        "    fc = frightb\n",
        "\n",
        "print(\"solution intervals = \", solution_ints)"
      ],
      "metadata": {
        "colab": {
          "base_uri": "https://localhost:8080/"
        },
        "id": "ftnQPzCCB7RT",
        "outputId": "829aa7c9-b994-4c84-a18f-1f35ae7c57b7"
      },
      "execution_count": null,
      "outputs": [
        {
          "output_type": "stream",
          "name": "stdout",
          "text": [
            "solution intervals =  [[-0.77, 0]]\n"
          ]
        }
      ]
    },
    {
      "cell_type": "markdown",
      "source": [
        "solution intervals =  [] means, I have only multiple roots for my square function because if the given function has any negative values my code would capture it with tolerance of b = 10^(-3), and insert it into solution_ints list as a solution interval."
      ],
      "metadata": {
        "id": "GzmRWHX_DO7b"
      }
    },
    {
      "cell_type": "markdown",
      "source": [
        "#Determine the solutions using the Newton's method with a tolerance ε as 10^(-6)"
      ],
      "metadata": {
        "id": "pRW6bDmsUwMK"
      }
    },
    {
      "cell_type": "code",
      "source": [
        "# Determine this solution using the Newton's method with a tolerance ε as 10^(-6)\n",
        "from scipy.optimize import fsolve\n",
        "\n",
        "\n",
        "M = 10 # in case the program goes into infinite loops\n",
        "epsilon = 10**(-6)\n",
        "\n",
        "for i in range(len(solution_ints)):\n",
        "  solution_int = solution_ints[i]\n",
        "\n",
        "  print(f\"\\nRoot {i+1} of f(x) in {solution_int} is as follows: \")\n",
        "  # x0 = solution_int[1] # gettin the right boundary\n",
        "  x0 = 1 # Given initial point that satisfied the Tests 1,2,3.\n",
        "  v = (x0)**3- 3*(x0)**2 + (x0) + 3  # starting function value at x0  = 1.\n",
        "\n",
        "  print(\"steps\", \"\\t \", \"x\", \"\\t\", \"f(x)\")\n",
        "\n",
        "  if abs(v) < epsilon:\n",
        "    print(0, \"\\t \", x0, \"\\t\", v)\n",
        "    x1 = x0\n",
        "    mnumer = (3*(x1)**2 - 6*(x1) + 1)**2\n",
        "    mdenom = mnumer - ((x1)**3- 3*(x1)**2 + (x1) + 3)*(6*(x1) - 6) + 0.00000001 # in case x0 is a desired root\n",
        "    m = round(mnumer/mdenom)\n",
        "    print(\"m = \", m)\n",
        "    print(f\"multipilicity of the root {x1} is {m}\")\n",
        "\n",
        "  else:\n",
        "    for k in range(1, M):\n",
        "      x1 = x0 - v/(3*(x0)**2 - 6*(x0) + 1)\n",
        "      v = (x1)**3- 3*(x1)**2 + (x1) + 3\n",
        "      print(k, \"\\t \", x1, \"\\t\", v)\n",
        "      if abs(v) < epsilon:\n",
        "        print(f\"\\nSo the approximate solution {i+1} after {k} steps is = {x1}\")\n",
        "        # The function fsolve takes in many arguments that you can find in the documentation,\n",
        "        # but the most important two is the function you want to find the root, and the initial guess interval.\n",
        "        f = lambda x: (x)**3- 3*(x)**2 + (x) + 3\n",
        "        mnumer = (3*(x1)**2 - 6*(x1) + 1)**2\n",
        "        mdenom = mnumer - ((x1)**3- 3*(x1)**2 + (x1) + 3)*(6*(x1) - 6) + 0.00000001 # in case x0 is a desired root\n",
        "        m = mnumer/mdenom\n",
        "\n",
        "        print(\"Using Python's fsolve function, fsolve(f, x0) = \",  *fsolve(f, 1), '\\n')\n",
        "        print(\"m = \", m)\n",
        "        print(f\"multipilicity of the root {x1} is {round(m)}\")\n",
        "        break\n",
        "      x0 = x1"
      ],
      "metadata": {
        "colab": {
          "base_uri": "https://localhost:8080/"
        },
        "id": "1pyimH74wp11",
        "outputId": "3c65dc3e-0658-4279-d1cd-dd8c08c01e64"
      },
      "execution_count": null,
      "outputs": [
        {
          "output_type": "stream",
          "name": "stdout",
          "text": [
            "\n",
            "Root 1 of f(x) in [-0.77, 0] is as follows: \n",
            "steps \t  x \t f(x)\n",
            "1 \t  2.0 \t 1.0\n",
            "2 \t  1.0 \t 2.0\n",
            "3 \t  2.0 \t 1.0\n",
            "4 \t  1.0 \t 2.0\n",
            "5 \t  2.0 \t 1.0\n",
            "6 \t  1.0 \t 2.0\n",
            "7 \t  2.0 \t 1.0\n",
            "8 \t  1.0 \t 2.0\n",
            "9 \t  2.0 \t 1.0\n"
          ]
        }
      ]
    },
    {
      "cell_type": "code",
      "source": [
        "f = lambda x: (x)**3- 3*(x)**2 + (x) + 3\n",
        "print(\"Using Python's fsolve function, fsolve(f, [0, 2]) = \",  *fsolve(f, 1), '\\n')"
      ],
      "metadata": {
        "colab": {
          "base_uri": "https://localhost:8080/"
        },
        "id": "-mOvQXXkvWCp",
        "outputId": "573621e7-4dae-4394-ac9f-7a9a0d3e97ea"
      },
      "execution_count": null,
      "outputs": [
        {
          "output_type": "stream",
          "name": "stdout",
          "text": [
            "Using Python's fsolve function, fsolve(f, [0, 2]) =  1.8165405273476252 \n",
            "\n"
          ]
        },
        {
          "output_type": "stream",
          "name": "stderr",
          "text": [
            "/usr/local/lib/python3.10/dist-packages/scipy/optimize/_minpack_py.py:177: RuntimeWarning: The iteration is not making good progress, as measured by the \n",
            "  improvement from the last ten iterations.\n",
            "  warnings.warn(msg, RuntimeWarning)\n"
          ]
        }
      ]
    },
    {
      "cell_type": "code",
      "source": [
        " (1.816)**3- 3*(1.816)**2 + (1.816) + 3"
      ],
      "metadata": {
        "colab": {
          "base_uri": "https://localhost:8080/"
        },
        "id": "xBXSSMnjvjCC",
        "outputId": "c78bd041-83f3-4dc3-f3c7-c8eb0c1e134f"
      },
      "execution_count": null,
      "outputs": [
        {
          "output_type": "execute_result",
          "data": {
            "text/plain": [
              "0.9113384959999982"
            ]
          },
          "metadata": {},
          "execution_count": 7
        }
      ]
    },
    {
      "cell_type": "code",
      "source": [
        "# Determine this solution using the Newton's method with a tolerance ε as 10^(-6)\n",
        "from scipy.optimize import fsolve\n",
        "\n",
        "\n",
        "M = 10 # in case the program goes into infinite loops\n",
        "epsilon = 10**(-6)\n",
        "\n",
        "for i in range(len(solution_ints)):\n",
        "  solution_int = solution_ints[i]\n",
        "\n",
        "  print(f\"\\nRoot {i+1} of f(x) in {solution_int} is as follows: \")\n",
        "  x0 = solution_int[1] # gettin the right boundary\n",
        "  # x0 = 1 # Given initial point that satisfied the Tests 1,2,3.\n",
        "  v = (x0)**3- 3*(x0)**2 + (x0) + 3  # starting function value at x0.\n",
        "\n",
        "  print(\"steps\", \"\\t \", \"x\", \"\\t\", \"f(x)\")\n",
        "\n",
        "  if abs(v) < epsilon:\n",
        "    print(0, \"\\t \", x0, \"\\t\", v)\n",
        "    x1 = x0\n",
        "    mnumer = (3*(x1)**2 - 6*(x1) + 1)**2\n",
        "    mdenom = mnumer - ((x1)**3- 3*(x1)**2 + (x1) + 3)*(6*(x1) - 6) + 0.00000001 # in case x0 is a desired root\n",
        "    m = round(mnumer/mdenom)\n",
        "    print(\"m = \", m)\n",
        "    print(f\"multipilicity of the root {x1} is {m}\")\n",
        "\n",
        "  else:\n",
        "    for k in range(1, M):\n",
        "      x1 = x0 - v/(3*(x0)**2 - 6*(x0) + 1)\n",
        "      v = (x1)**3- 3*(x1)**2 + (x1) + 3\n",
        "      print(k, \"\\t \", x1, \"\\t\", v)\n",
        "      if abs(v) < epsilon:\n",
        "        print(f\"\\nSo the approximate solution {i+1} after {k} steps is = {x1}\")\n",
        "        # The function fsolve takes in many arguments that you can find in the documentation,\n",
        "        # but the most important two is the function you want to find the root, and the initial guess interval.\n",
        "        f = lambda x: (x)**3- 3*(x)**2 + (x) + 3\n",
        "        mnumer = (3*(x1)**2 - 6*(x1) + 1)**2\n",
        "        mdenom = mnumer - ((x1)**3- 3*(x1)**2 + (x1) + 3)*(6*(x1) - 6) + 0.00000001 # in case x0 is a desired root\n",
        "        m = mnumer/mdenom\n",
        "\n",
        "        print(\"Using Python's fsolve function, fsolve(f, x0) = \",  *fsolve(f, solution_int[i]), '\\n')\n",
        "        print(\"m = \", m)\n",
        "        print(f\"multipilicity of the root {x1} is {round(m)}\")\n",
        "        break\n",
        "      x0 = x1"
      ],
      "metadata": {
        "colab": {
          "base_uri": "https://localhost:8080/"
        },
        "id": "oawQiE0TBdr5",
        "outputId": "d68f3423-2b32-4de0-a6c5-344a733d9fc7"
      },
      "execution_count": null,
      "outputs": [
        {
          "output_type": "stream",
          "name": "stdout",
          "text": [
            "\n",
            "Root 1 of f(x) in [-0.77, 0] is as follows: \n",
            "steps \t  x \t f(x)\n",
            "1 \t  -3.0 \t -54.0\n",
            "2 \t  -1.826086956521739 \t -14.919125503410864\n",
            "3 \t  -1.1467190137392351 \t -3.5995072936479193\n",
            "4 \t  -0.8423262771400923 \t -0.568508861805741\n",
            "5 \t  -0.7728476364392379 \t -0.02634488978133831\n",
            "6 \t  -0.7693013974364497 \t -6.684039393700658e-05\n",
            "7 \t  -0.7692923542973596 \t -4.340714454542649e-10\n",
            "\n",
            "So the approximate solution 1 after 7 steps is = -0.7692923542973596\n",
            "Using Python's fsolve function, fsolve(f, x0) =  -0.7692923542386315 \n",
            "\n",
            "m =  0.999999999901299\n",
            "multipilicity of the root -0.7692923542973596 is 1\n"
          ]
        }
      ]
    },
    {
      "cell_type": "markdown",
      "source": [
        "# **Observations**"
      ],
      "metadata": {
        "id": "hCzBgS6Jm6b9"
      }
    },
    {
      "cell_type": "markdown",
      "source": [
        "<p align=\"justify\">\n",
        "\n",
        "\n",
        "*   I'm not quite sure what happened here (still trying to find out the reason) but the iteration points are jumping only bewteen {1, 2}. I knew that g'(1) = f''(1) = 0 and thinking about connecting them.\n",
        "*   Regarding the improvements, I think I have now one as you can see from the cell above. If we start teh initial point x0 = 0 as my code found the solution interval and starting point x0 = 0 ( whci satisfies the Tests 1,2,3 too), then the approxiamte solution, after quieckly 7 steps,  is x ~ -0.77 with a tolerance of 10^(-6) which is very fast!\n",
        "\n",
        "\n",
        "\n",
        "</p>"
      ],
      "metadata": {
        "id": "OXPww-X-0JKC"
      }
    },
    {
      "cell_type": "code",
      "source": [
        "# To download\n",
        "# !sudo apt-get install texlive-xetex texlive-fonts-recommended texlive-plain-generic\n",
        "# !jupyter nbconvert --to pdf /content/pr1_i_math548_midterm_Lazizbek.ipynb"
      ],
      "metadata": {
        "id": "WE3lssLbkVlb"
      },
      "execution_count": null,
      "outputs": []
    }
  ]
}