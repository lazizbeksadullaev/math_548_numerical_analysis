{
  "nbformat": 4,
  "nbformat_minor": 0,
  "metadata": {
    "colab": {
      "provenance": []
    },
    "kernelspec": {
      "name": "python3",
      "display_name": "Python 3"
    },
    "language_info": {
      "name": "python"
    }
  },
  "cells": [
    {
      "cell_type": "markdown",
      "source": [
        "# Math 548, Final Exam. Problem 1. LS"
      ],
      "metadata": {
        "id": "pilwp6ZoeC_R"
      }
    },
    {
      "cell_type": "markdown",
      "source": [
        "**Problem 1**\n",
        "\n",
        "(b) Find (3)^(1/2) using the fixed-point iteration method"
      ],
      "metadata": {
        "id": "N-Pc6oAg_UcE"
      }
    },
    {
      "cell_type": "markdown",
      "source": [
        "Solution:\n",
        "\n",
        "To find $\\sqrt{3}$ using the fixed-point iteration method, we need to reformulate the equation $y = \\sqrt{3}$ into a fixed-point iteration form $g(y) = y$. We can choose any function $g(y)$ such that its fixed point is $\\sqrt{3}$.\n",
        "\n",
        "I am choosing $g(y) = \\frac{1}{2}(y + \\frac{3}{y})$, which is derived from rearranging $y = \\sqrt{3}$ , $y^{2} = {3}$ as $y = \\frac{3}{y}$ and adding both sides $y$ and solving it for $y$.\n",
        "\n",
        "Here's the fixed-point iteration method using $g(y)$:\n",
        "1. Start with an initial guess $y_0$.\n",
        "2. Iterate using the formula $y_{n+1} = g(y_n)$.\n",
        "3. Repeat step 2 until the desired level of accuracy is achieved.\n",
        "\n",
        "Let's perform the iterations:\n",
        "\n",
        "\\begin{align*}\n",
        "y_0 & \\text{ (Initial guess)} \\\\\n",
        "y_1 & = \\frac{1}{2} \\left( y_0 + \\frac{3}{y_0} \\right) \\\\\n",
        "y_2 & = \\frac{1}{2} \\left( y_1 + \\frac{3}{y_1} \\right) \\\\\n",
        "y_3 & = \\frac{1}{2} \\left( y_2 + \\frac{3}{y_2} \\right) \\\\\n",
        "& \\vdots \\\\\n",
        "\\end{align*}\n",
        "\n",
        "Continuing this process, the sequence converges to $\\sqrt{3}$.\n",
        "\n",
        "Below is the code and results:"
      ],
      "metadata": {
        "id": "wmx-7PUx71RT"
      }
    },
    {
      "cell_type": "code",
      "source": [
        "import pandas as pd\n",
        "\n",
        "initials = list([2])\n",
        "steps = list()\n",
        "approximations = list()\n",
        "epsilon = 0.000001\n",
        "\n",
        "for i in range(len(initials)):\n",
        "  x0 = initials[i]\n",
        "  M = 10\n",
        "  try:\n",
        "    for k in range(M):\n",
        "      steps.append(k)\n",
        "      approximations.append(x0)\n",
        "      x1 = (x0 + 3/(x0))/2\n",
        "      if abs(x0-x1) < epsilon:\n",
        "        print(f\"\\nWhen x0={initials[i]}, |g'({initials[i]})| < 1, so iteration converges with tolerance of {epsilon} in {k} steps as follows:\")\n",
        "        break\n",
        "      x0 = x1\n",
        "\n",
        "\n",
        "    d = {'step k = ': steps, 'approximation x = ': approximations}\n",
        "    df = pd.DataFrame(data=d)\n",
        "    print(df)\n",
        "    steps = []\n",
        "    approximations = []\n",
        "\n",
        "  except:\n",
        "    print(f\"\\nWhen x0={initials[i]}, |g'({initials[i]})|>=1, so iteration diverges in {k} steps as follows:\")\n",
        "    steps.pop()\n",
        "    approximations.pop()\n",
        "    d = {'step k = ': steps, 'approximation x = ': approximations}\n",
        "    df = pd.DataFrame(data=d)\n",
        "    print(df)\n",
        "    steps = []\n",
        "    approximations = []\n"
      ],
      "metadata": {
        "colab": {
          "base_uri": "https://localhost:8080/"
        },
        "id": "nOYBfy5P5xjY",
        "outputId": "7ee1a227-3b8c-45a8-86c2-9c9fe47b6618"
      },
      "execution_count": null,
      "outputs": [
        {
          "output_type": "stream",
          "name": "stdout",
          "text": [
            "\n",
            "When x0=2, |g'(2)| < 1, so iteration converges with tolerance of 1e-06 in 3 steps as follows:\n",
            "   step k =   approximation x = \n",
            "0          0            2.000000\n",
            "1          1            1.750000\n",
            "2          2            1.732143\n",
            "3          3            1.732051\n"
          ]
        }
      ]
    },
    {
      "cell_type": "code",
      "source": [
        "# To download\n",
        "# !sudo apt-get install texlive-xetex texlive-fonts-recommended texlive-plain-generic\n",
        "# !jupyter nbconvert --to pdf /content/pr1_i_math548_midterm_Lazizbek.ipynb"
      ],
      "metadata": {
        "id": "WE3lssLbkVlb"
      },
      "execution_count": null,
      "outputs": []
    }
  ]
}