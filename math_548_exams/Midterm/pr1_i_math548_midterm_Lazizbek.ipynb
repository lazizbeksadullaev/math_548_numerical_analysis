{
  "nbformat": 4,
  "nbformat_minor": 0,
  "metadata": {
    "colab": {
      "provenance": []
    },
    "kernelspec": {
      "name": "python3",
      "display_name": "Python 3"
    },
    "language_info": {
      "name": "python"
    }
  },
  "cells": [
    {
      "cell_type": "markdown",
      "source": [
        "# Math 548, Midterm. Problem 1. LS"
      ],
      "metadata": {
        "id": "pilwp6ZoeC_R"
      }
    },
    {
      "cell_type": "markdown",
      "source": [
        "**Problem 1**\n",
        "\n",
        "(20 points) Find the roots and their multiplicities of the following functions\n",
        "in the interval [0,2] using the Newton’s method. Comment on your results and\n",
        "discuss any commonalities between the results of (i) and (ii).\n",
        "\n",
        "i.\tf(x) = 21.12 - 32.4x + 12x^2\n",
        "\n",
        "ii.\th(x) = 2.7951 - 8.954x + 10.56x^2 - 5.4x^3 + x^4"
      ],
      "metadata": {
        "id": "N-Pc6oAg_UcE"
      }
    },
    {
      "cell_type": "markdown",
      "source": [
        "#In which interval (i) has a solution? Determine all of the solution intervals using the sign comparison of the function at boundaries of the intervals [-b, a] or [c, b] starting symmetrically around both sides of the origin, 0, with a tolerance b as 10^(-3)"
      ],
      "metadata": {
        "id": "EChmkxRMU5GH"
      }
    },
    {
      "cell_type": "code",
      "source": [
        "# In which interval it has a solution?\n",
        "\n",
        "import numpy as np\n",
        "import math\n",
        "\n",
        "# f(x) = 21.12 - 32.4*(x) + 12*(x)**2\n",
        "f0 =  21.12 - 32.4*(0) + 12*(0)**2 # f0 = 21.12\n",
        "frightb = f0\n",
        "fleftb = f0\n",
        "fa = f0\n",
        "fc = f0\n",
        "solution_ints = list()\n",
        "b = 0\n",
        "a = 0\n",
        "c = 0\n",
        "# we'll run through [-b, a] or [c, b]\n",
        "\n",
        "for b in np.arange(0.0, 2.0, 0.001):\n",
        "  frightb = 21.12 - 32.4*(b) + 12*(b)**2\n",
        "  fleftb = 21.12 - 32.4*(-b) + 12*(-b)**2\n",
        "\n",
        "  if np.sign(fleftb) * np.sign(fa) <= 0: # fleftb <= 0 as fa = f0 = 21.12 > 0:\n",
        "    print(\" = b \", b, \";\", \"fleftb = \", fleftb)\n",
        "    solution_ints.append([-b, a])\n",
        "    a = -b\n",
        "    fa = fleftb\n",
        "\n",
        "  if np.sign(frightb) * np.sign(fc) <= 0: # frightb <= 0 as fc = f0 = 21.12 > 0:\n",
        "    print(\"b = \", b, \";\", \"frightb = \", frightb)\n",
        "    solution_ints.append([c, b])\n",
        "    c = b\n",
        "    fc = frightb\n",
        "\n",
        "print(\"solution intervals = \", solution_ints)"
      ],
      "metadata": {
        "colab": {
          "base_uri": "https://localhost:8080/"
        },
        "id": "ftnQPzCCB7RT",
        "outputId": "aa2b521e-f827-41a0-cc1a-d366db0a3b79"
      },
      "execution_count": 6,
      "outputs": [
        {
          "output_type": "stream",
          "name": "stdout",
          "text": [
            "b =  1.101 ; frightb =  -0.005987999999996774\n",
            "b =  1.6 ; frightb =  3.552713678800501e-15\n",
            "solution intervals =  [[0, 1.101], [1.101, 1.6]]\n"
          ]
        }
      ]
    },
    {
      "cell_type": "markdown",
      "source": [
        "solution intervals =  [] means, I have only multiple roots for my square function because if the given function has any negative values my code would capture it with tolerance of b = 10^(-3), and insert it into solution_ints list as a solution interval."
      ],
      "metadata": {
        "id": "GzmRWHX_DO7b"
      }
    },
    {
      "cell_type": "markdown",
      "source": [
        "#Determine the solutions using the Newton's method with a tolerance ε as 10^(-6)"
      ],
      "metadata": {
        "id": "pRW6bDmsUwMK"
      }
    },
    {
      "cell_type": "code",
      "source": [
        "# Determine this solution using the Newton's method with a tolerance ε as 10^(-6)\n",
        "from scipy.optimize import fsolve\n",
        "\n",
        "\n",
        "M = 10**6 # in case the program goes into infinite loops\n",
        "epsilon = 10**(-8)\n",
        "\n",
        "for i in range(len(solution_ints)):\n",
        "  solution_int = solution_ints[i]\n",
        "\n",
        "  print(f\"\\nRoot {i+1} of f(x) in {solution_int} is as follows: \")\n",
        "  x0 = solution_int[1] # by the result of (12), x0=2 would give faster convergence\n",
        "  v = 21.12 - 32.4*(x0) + 12*(x0)**2  # starting function value at x0.\n",
        "\n",
        "  print(\"steps\", \"\\t \", \"x\", \"\\t\", \"\\t\", \"\\t\", \"f(x)\")\n",
        "\n",
        "  if abs(v) < epsilon:\n",
        "    print(0, \"\\t \", x0, \"\\t\", v)\n",
        "    x1 = x0\n",
        "    mnumer = (-32.4 + 24*(x1))**2\n",
        "    mdenom = mnumer - (21.12 - 32.4*(x1) + 12*(x1)**2)*(24)+0.00000001 # in case x0 is a desired root\n",
        "    m = round(mnumer/mdenom)\n",
        "    print(\"m = \", m)\n",
        "    print(f\"multipilicity of the root {x1} is {m}\")\n",
        "\n",
        "  else:\n",
        "    for k in range(1, M):\n",
        "      x1 = x0 - v/(-32.4 + 24*(x0))\n",
        "      v = 21.12 - 32.4*(x1) + 12*(x1)**2\n",
        "      print(k, \"\\t \", x1, \"\\t\", v)\n",
        "      if abs(v) < epsilon:\n",
        "        print(f\"\\nSo the approximate solution {i+1} after {k} steps is = {x1}\")\n",
        "        # The function fsolve takes in many arguments that you can find in the documentation,\n",
        "        # but the most important two is the function you want to find the root, and the initial guess interval.\n",
        "        f = lambda x: 21.12 - 32.4*(x) + 12*(x)**2\n",
        "        mnumer = (-32.4 + 24*(x1))**2\n",
        "        mdenom = mnumer - (21.12 - 32.4*(x1) + 12*(x1)**2)*(24)+0.00000001 # in case x0 is a desired root\n",
        "        m = mnumer/mdenom\n",
        "\n",
        "        print(\"Using Python's fsolve function, fsolve(f, [0, 2]) = \",  *fsolve(f, solution_int[i]), '\\n')\n",
        "        print(\"m = \", m)\n",
        "        print(f\"multipilicity of the root {x1} is {round(m)}\")\n",
        "        break\n",
        "      x0 = x1"
      ],
      "metadata": {
        "colab": {
          "base_uri": "https://localhost:8080/"
        },
        "id": "oawQiE0TBdr5",
        "outputId": "2a825552-018e-4e24-bb89-a395b4e4b96a"
      },
      "execution_count": 2,
      "outputs": [
        {
          "output_type": "stream",
          "name": "stdout",
          "text": [
            "\n",
            "Root 1 of f(x) in [0, 1.101] is as follows: \n",
            "steps \t  x \t \t \t f(x)\n",
            "1 \t  1.099997991967872 \t 1.2048241156747963e-05\n",
            "2 \t  1.099999999991936 \t 4.838796030526282e-11\n",
            "\n",
            "So the approximate solution 1 after 2 steps is = 1.099999999991936\n",
            "Using Python's fsolve function, fsolve(f, [0, 2]) =  1.0999999999999992 \n",
            "\n",
            "m =  0.9999999997544808\n",
            "multipilicity of the root 1.099999999991936 is 1\n",
            "\n",
            "Root 2 of f(x) in [1.101, 1.6] is as follows: \n",
            "steps \t  x \t \t \t f(x)\n",
            "0 \t  1.6 \t 3.552713678800501e-15\n",
            "m =  1\n",
            "multipilicity of the root 1.6 is 1\n"
          ]
        }
      ]
    },
    {
      "cell_type": "markdown",
      "source": [
        "#In case I calculated the roots of (i) by hand:"
      ],
      "metadata": {
        "id": "dBC43hvxiu7r"
      }
    },
    {
      "cell_type": "code",
      "source": [
        "print(32.4**2-4*21.12*12)\n",
        "print((32.4+6)/(2*12))\n",
        "print((32.4-6)/(2*12))"
      ],
      "metadata": {
        "colab": {
          "base_uri": "https://localhost:8080/"
        },
        "id": "txzKtoE0YNWQ",
        "outputId": "9d246978-7957-4e96-b469-687410d7f5ed"
      },
      "execution_count": 5,
      "outputs": [
        {
          "output_type": "stream",
          "name": "stdout",
          "text": [
            "36.0\n",
            "1.5999999999999999\n",
            "1.0999999999999999\n"
          ]
        }
      ]
    }
  ]
}