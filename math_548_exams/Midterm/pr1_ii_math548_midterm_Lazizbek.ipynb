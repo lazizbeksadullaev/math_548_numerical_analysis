{
  "nbformat": 4,
  "nbformat_minor": 0,
  "metadata": {
    "colab": {
      "provenance": []
    },
    "kernelspec": {
      "name": "python3",
      "display_name": "Python 3"
    },
    "language_info": {
      "name": "python"
    }
  },
  "cells": [
    {
      "cell_type": "markdown",
      "source": [
        "# Math 548, Midterm. Problem 1. LS"
      ],
      "metadata": {
        "id": "pilwp6ZoeC_R"
      }
    },
    {
      "cell_type": "markdown",
      "source": [
        "**Problem 1**\n",
        "\n",
        "(20 points) Find the roots and their multiplicities of the following functions\n",
        "in the interval [0,2] using the Newton’s method. Comment on your results and\n",
        "discuss any commonalities between the results of (i) and (ii).\n",
        "\n",
        "i.\tf(x) = 21.12 - 32.4x + 12x^2\n",
        "\n",
        "ii.\th(x) = 2.7951 - 8.954x + 10.56x^2 - 5.4x^3 + x^4"
      ],
      "metadata": {
        "id": "N-Pc6oAg_UcE"
      }
    },
    {
      "cell_type": "markdown",
      "source": [
        "#In which interval (ii) has a solution? Determine all of the solution intervals using the sign comparison of the function at boundaries of the intervals [-b, a] or [c, b] starting symmetrically around both sides of the origin, 0, with a tolerance b as 10^(-3)"
      ],
      "metadata": {
        "id": "EChmkxRMU5GH"
      }
    },
    {
      "cell_type": "code",
      "source": [
        "# In which interval it has a solution?\n",
        "\n",
        "import numpy as np\n",
        "import math\n",
        "\n",
        "# h(x) = 2.7951 - 8.954*x + 10.56*x**2 - 5.4*x**3 + x**4\n",
        "h0 = 2.7951 - 8.954*(0) + 10.56*(0)**2 - 5.4*(0)**3 + (0)**4 # h(0) = 2.7951\n",
        "hrightb = h0\n",
        "hleftb = h0\n",
        "ha = h0\n",
        "hc = h0\n",
        "solution_ints = list()\n",
        "b = 0\n",
        "a = 0\n",
        "c = 0\n",
        "# we'll run through [-b, a] or [c, b]\n",
        "\n",
        "for b in np.arange(0.0, 2.0, 0.001):\n",
        "  hrightb = 2.7951 - 8.954*(b) + 10.56*(b)**2 - 5.4*(b)**3 + (b)**4\n",
        "  hleftb = 2.7951 - 8.954*(-b) + 10.56*(-b)**2 - 5.4*(-b)**3 + (-b)**4\n",
        "\n",
        "  if np.sign(hleftb) * np.sign(ha) <= 0: # hleftb <= 0 as ha = h0 = 2.7951 > 0:\n",
        "    print(\" = b \", b, \";\", \"hleftb = \", hleftb)\n",
        "    solution_ints.append([-b, a])\n",
        "    a = -b\n",
        "    ha = hleftb\n",
        "\n",
        "  if np.sign(hrightb) * np.sign(hc) <= 0: # hrightb <= 0 as ha = h0 = 2.7951 > 0:\n",
        "    print(\"b = \", b, \";\", \"hrightb = \", hrightb)\n",
        "    solution_ints.append([c, b])\n",
        "    c = b\n",
        "    hc = hrightb\n",
        "\n",
        "print(\"solution intervals = \", solution_ints)"
      ],
      "metadata": {
        "colab": {
          "base_uri": "https://localhost:8080/"
        },
        "id": "ftnQPzCCB7RT",
        "outputId": "3041c10b-f5bd-487c-dd64-93ba92261ce7"
      },
      "execution_count": 3,
      "outputs": [
        {
          "output_type": "stream",
          "name": "stdout",
          "text": [
            "b =  1.1 ; hrightb =  -6.661338147750939e-16\n",
            "solution intervals =  [[0, 1.1]]\n"
          ]
        }
      ]
    },
    {
      "cell_type": "markdown",
      "source": [
        "solution intervals =  [ ], empty list, means that I have only multiple roots for my function because if the given function has any negative values my code would capture it with tolerance of b = 10^(-3), and insert it into solution_ints list as a solution interval."
      ],
      "metadata": {
        "id": "GzmRWHX_DO7b"
      }
    },
    {
      "cell_type": "markdown",
      "source": [
        "#Determine the solutions using the Newton's method with a tolerance ε as 10^(-6)"
      ],
      "metadata": {
        "id": "pRW6bDmsUwMK"
      }
    },
    {
      "cell_type": "code",
      "source": [
        "# Determine this solution using the Newton's method with a tolerance ε as 10^(-6)\n",
        "from scipy.optimize import fsolve\n",
        "\n",
        "\n",
        "M = 10**6 # in case the program goes into infinite loops\n",
        "epsilon = 10**(-8)\n",
        "\n",
        "for i in range(len(solution_ints)):\n",
        "  solution_int = solution_ints[i]\n",
        "\n",
        "  print(f\"\\nRoot {i+1} of h(x) in {solution_int} is as follows: \")\n",
        "  x0 = solution_int[1] # by the result of (32), x0=2 would give faster convergence even though I am not necessarily starting with x0 = 2\n",
        "  v = 2.7951 - 8.954*(x0) + 10.56*(x0)**2 - 5.4*(x0)**3 + (x0)**4  # starting function value at x0.\n",
        "\n",
        "  print(\"steps\", \"\\t \", \"x\", \"\\t\", \"\\t\", \"\\t\", \"h(x)\")\n",
        "\n",
        "  if abs(v) < epsilon:\n",
        "    print(0, \"\\t \", x0, \"\\t\", v)\n",
        "    x1 = x0\n",
        "    mnumer = ( - 8.954 + 21.12*(x1) - 16.2*(x1)**2 + 4*(x1)**3)**2\n",
        "    mdenom = mnumer - (2.7951 - 8.954*(x1) + 10.56*(x1)**2 - 5.4*(x1)**3 + (x1)**4)*(21.12 - 32.4*(x1) + 12*(x1)**2)+0.000001 # in case x0 is a desired root\n",
        "    print(\"mnumer = \", mnumer)\n",
        "    print(\"mdenom = \", mdenom)\n",
        "    m = mnumer/mdenom\n",
        "    print(\"m = \", m)\n",
        "    print(f\"multipilicity of the root {x1} is {round(m)}\")\n",
        "\n",
        "    # The function fsolve takes in many arguments that you can find in the documentation,\n",
        "    # but the most important two is the function you want to find the root, and the initial guess interval.\n",
        "    f = lambda x: 2.7951 - 8.954*(x) + 10.56*(x)**2 - 5.4*(x)**3 + (x)**4\n",
        "    print(\"To check our work, the solution of h(x) = 0 using Python's fsolve function, fsolve(f, [0, 2]) = \",  *fsolve(f, solution_int[i]), '\\n')\n",
        "\n",
        "  else:\n",
        "    for k in range(1, M):\n",
        "      x1 = x0 - v/( - 8.954 + 21.12*(x0) - 16.2*(x0)**2 + 4*(x0)**3)\n",
        "      v = 2.7951 - 8.954*(x1) + 10.56*(x1)**2 - 5.4*(x1)**3 + (x1)**4\n",
        "      print(k, \"\\t \", x1, \"\\t\", v)\n",
        "      if abs(v) < epsilon:\n",
        "        print(f\"\\nSo the approximate solution {i+1} after {k} steps is = {x1}\")\n",
        "\n",
        "        mnumer = ( - 8.954 + 21.12*(x1) - 16.2*(x1)**2 + 4*(x1)**3)**2\n",
        "        mdenom = mnumer - (2.7951 - 8.954*(x1) + 10.56*(x1)**2 - 5.4*(x1)**3 + (x1)**4)*(21.12 - 32.4*(x1) + 12*(x1)**2)+0.000001 # in case x1 is the actual(real) root\n",
        "        print(\"mnumer = \", mnumer)\n",
        "        print(\"mdenom = \", mdenom)\n",
        "        m = mnumer/mdenom\n",
        "        print(\"m = \", m)\n",
        "        print(f\"multipilicity of the root {x1} is {round(m)}\")\n",
        "\n",
        "        # The function fsolve takes in many arguments that you can find in the documentation,\n",
        "        # but the most important two is the function you want to find the root, and the initial guess interval.\n",
        "        f = lambda x: 2.7951 - 8.954*(x) + 10.56*(x)**2 - 5.4*(x)**3 + (x)**4\n",
        "        print(\"To check our work, the solution of h(x) = 0 using Python's fsolve function, fsolve(f, [0, 2]) = \",  *fsolve(f, solution_int[i]), '\\n')\n",
        "\n",
        "        break\n",
        "      x0 = x1"
      ],
      "metadata": {
        "colab": {
          "base_uri": "https://localhost:8080/"
        },
        "id": "oawQiE0TBdr5",
        "outputId": "f58f2660-cc42-4f8b-c22a-f085801619a7"
      },
      "execution_count": 4,
      "outputs": [
        {
          "output_type": "stream",
          "name": "stdout",
          "text": [
            "\n",
            "Root 1 of h(x) in [0, 1.1] is as follows: \n",
            "steps \t  x \t \t \t h(x)\n",
            "0 \t  1.1 \t -6.661338147750939e-16\n",
            "mnumer =  0.0\n",
            "mdenom =  1e-06\n",
            "m =  0.0\n",
            "multipilicity of the root 1.1 is 0\n",
            "To check our work, the solution of h(x) = 0 using Python's fsolve function, fsolve(f, [0, 2]) =  1.0999932258418257 \n",
            "\n"
          ]
        }
      ]
    },
    {
      "cell_type": "markdown",
      "source": [
        "# Here how I checked the roots of h(x), h'(x), h''(x), h'''(x) to see what's going on with m:"
      ],
      "metadata": {
        "id": "vXcb7Ynd6RGr"
      }
    },
    {
      "cell_type": "code",
      "source": [
        "# h(x) = 0\n",
        "f = lambda x: 2.7951 - 8.954*(x) + 10.56*(x)**2 - 5.4*(x)**3 + (x)**4\n",
        "print(\"To check our work, the solution of h(x) = 0 using Python's fsolve function, fsolve(f, [0, 2]) = \",  *fsolve(f, 1000), '\\n')"
      ],
      "metadata": {
        "colab": {
          "base_uri": "https://localhost:8080/"
        },
        "id": "oTYDFZgGwiZc",
        "outputId": "e88843d5-4e25-4b12-8252-0e3be52de4ec"
      },
      "execution_count": 5,
      "outputs": [
        {
          "output_type": "stream",
          "name": "stdout",
          "text": [
            "To check our work, the solution of h(x) = 0 using Python's fsolve function, fsolve(f, [0, 2]) =  2.100000000000002 \n",
            "\n"
          ]
        }
      ]
    },
    {
      "cell_type": "code",
      "source": [
        "# h'(x) = 0\n",
        "f = lambda x: - 8.954 + 21.12*(x) - 16.2*(x)**2 + 4*(x)**3\n",
        "print(\"To check our work, the solution of h'(x) = 0 using Python's fsolve function, fsolve(f, [0, 2]) = \",  *fsolve(f, solution_int[i]), '\\n')"
      ],
      "metadata": {
        "colab": {
          "base_uri": "https://localhost:8080/"
        },
        "id": "chFUQek8vSj7",
        "outputId": "dc05d066-6d8c-4717-852d-457fc9649b07"
      },
      "execution_count": 16,
      "outputs": [
        {
          "output_type": "stream",
          "name": "stdout",
          "text": [
            "To check our work, the solution of h'(x) = 0 using Python's fsolve function, fsolve(f, [0, 2]) =  1.0999999815114856 \n",
            "\n"
          ]
        }
      ]
    },
    {
      "cell_type": "code",
      "source": [
        "# h''(x) = 0\n",
        "f = lambda x: 21.12 - 32.4*(x) + 12*(x)**2\n",
        "print(\"To check our work, the solution of h''(x) = 0 using Python's fsolve function, fsolve(f, [0, 2]) = \",  *fsolve(f, solution_int[i]), '\\n')"
      ],
      "metadata": {
        "colab": {
          "base_uri": "https://localhost:8080/"
        },
        "id": "PlsTi4b8v4xj",
        "outputId": "f8f361a7-031c-41a8-ce8e-5c55c9a67e47"
      },
      "execution_count": 17,
      "outputs": [
        {
          "output_type": "stream",
          "name": "stdout",
          "text": [
            "To check our work, the solution of h''(x) = 0 using Python's fsolve function, fsolve(f, [0, 2]) =  1.0999999999999992 \n",
            "\n"
          ]
        }
      ]
    },
    {
      "cell_type": "code",
      "source": [
        "# h'''(x) = 0\n",
        "f = lambda x: - 32.4 + 24*(x)\n",
        "print(\"To check our work, the solution of h'''(x) = 0 using Python's fsolve function, fsolve(f, [0, 2]) = \",  *fsolve(f, solution_int[i]), '\\n')"
      ],
      "metadata": {
        "colab": {
          "base_uri": "https://localhost:8080/"
        },
        "id": "6Cz70xQ0wEU2",
        "outputId": "b1c68b64-7bcc-40a8-e768-10b3c23caeae"
      },
      "execution_count": 18,
      "outputs": [
        {
          "output_type": "stream",
          "name": "stdout",
          "text": [
            "To check our work, the solution of h'''(x) = 0 using Python's fsolve function, fsolve(f, [0, 2]) =  1.35 \n",
            "\n"
          ]
        }
      ]
    },
    {
      "cell_type": "code",
      "source": [
        "# !sudo apt-get install texlive-xetex texlive-fonts-recommended texlive-plain-generic"
      ],
      "metadata": {
        "id": "WE3lssLbkVlb"
      },
      "execution_count": 15,
      "outputs": []
    },
    {
      "cell_type": "code",
      "source": [
        "# !jupyter nbconvert --to pdf /content/pr1_ii_math548_midterm_Lazizbek.ipynb"
      ],
      "metadata": {
        "id": "L1ncnvankesb"
      },
      "execution_count": 14,
      "outputs": []
    }
  ]
}