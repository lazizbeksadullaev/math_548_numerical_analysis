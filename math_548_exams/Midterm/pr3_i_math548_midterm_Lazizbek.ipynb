{
  "nbformat": 4,
  "nbformat_minor": 0,
  "metadata": {
    "colab": {
      "provenance": []
    },
    "kernelspec": {
      "name": "python3",
      "display_name": "Python 3"
    },
    "language_info": {
      "name": "python"
    }
  },
  "cells": [
    {
      "cell_type": "markdown",
      "source": [
        "# Math 548, Midterm. Problem 3. LS"
      ],
      "metadata": {
        "id": "FJ4ONah9v6z_"
      }
    },
    {
      "cell_type": "markdown",
      "source": [
        "**Problem 3**\n",
        "\n",
        "**You would like to use the fixed-point iteration method to find\n",
        "the roots of f (x) = x - x^2 = 0. Consider the following two formulations.**\n",
        "\n",
        "\n",
        "1.   \n",
        "\n",
        "```\n",
        "x = x + 2(x-x^2).\n",
        "```\n",
        "\n",
        "\n",
        "2.   \n",
        "\n",
        "```\n",
        "x = x - (x - x^2) / (1 - 2x).\n",
        "```\n",
        "a) For each formulation carry out the iterations first using the starting\n",
        "value 0.8 and then, using the starting value 0.2.\n",
        "\n",
        "b) Comment and justify your observations."
      ],
      "metadata": {
        "id": "2Y78nToZBED_"
      }
    },
    {
      "cell_type": "markdown",
      "source": [
        "#Problem 3. (i)"
      ],
      "metadata": {
        "id": "GYfLfFSF8wY9"
      }
    },
    {
      "cell_type": "markdown",
      "source": [
        "**x = x + 2*(x-x^2).**"
      ],
      "metadata": {
        "id": "_jLzjJ1I9SEY"
      }
    },
    {
      "cell_type": "code",
      "source": [
        "import pandas as pd\n",
        "\n",
        "initials = list([0.8, 0.2])\n",
        "steps = list()\n",
        "approximations = list()\n",
        "epsilon = 0.000001\n",
        "\n",
        "for i in range(2):\n",
        "  x0 = initials[i]\n",
        "  M = 10\n",
        "  try:\n",
        "    for k in range(M):\n",
        "      steps.append(k)\n",
        "      approximations.append(x0)\n",
        "      x1 = x0 + 2*(x0-(x0)**2)\n",
        "      if abs(x0-x1) < epsilon:\n",
        "        print(f\"\\nWhen x0={initials[i]}, |g'({initials[i]})| < 1, so iteration converges with tolerance of {epsilon} in {k} steps as follows:\")\n",
        "        break\n",
        "      x0 = x1\n",
        "\n",
        "\n",
        "    d = {'step k = ': steps, 'approximation x = ': approximations}\n",
        "    df = pd.DataFrame(data=d)\n",
        "    print(df)\n",
        "    steps = []\n",
        "    approximations = []\n",
        "\n",
        "  except:\n",
        "    print(f\"\\nWhen x0={initials[i]}, |g'({initials[i]})|>=1, so iteration diverges in {k} steps as follows:\")\n",
        "    steps.pop()\n",
        "    approximations.pop()\n",
        "    d = {'step k = ': steps, 'approximation x = ': approximations}\n",
        "    df = pd.DataFrame(data=d)\n",
        "    print(df)\n",
        "    steps = []\n",
        "    approximations = []\n"
      ],
      "metadata": {
        "colab": {
          "base_uri": "https://localhost:8080/"
        },
        "id": "Xdajpag39g6B",
        "outputId": "6689c8f7-7ac7-44c2-9cd5-c4fa4610a610"
      },
      "execution_count": 1,
      "outputs": [
        {
          "output_type": "stream",
          "name": "stdout",
          "text": [
            "   step k =   approximation x = \n",
            "0          0            0.800000\n",
            "1          1            1.120000\n",
            "2          2            0.851200\n",
            "3          3            1.104517\n",
            "4          4            0.873635\n",
            "5          5            1.094429\n",
            "6          6            0.887738\n",
            "7          7            1.087057\n",
            "8          8            0.897786\n",
            "9          9            1.081319\n",
            "   step k =   approximation x = \n",
            "0          0            0.200000\n",
            "1          1            0.520000\n",
            "2          2            1.019200\n",
            "3          3            0.980063\n",
            "4          4            1.019142\n",
            "5          5            0.980125\n",
            "6          6            1.019085\n",
            "7          7            0.980186\n",
            "8          8            1.019028\n",
            "9          9            0.980247\n"
          ]
        }
      ]
    },
    {
      "cell_type": "code",
      "source": [
        "# !sudo apt-get install texlive-xetex texlive-fonts-recommended texlive-plain-generic"
      ],
      "metadata": {
        "id": "5K6JDiLwvj6M"
      },
      "execution_count": null,
      "outputs": []
    },
    {
      "cell_type": "code",
      "source": [
        "# !jupyter nbconvert --to pdf /content/Math548_hw6_Lazizbek.ipynb"
      ],
      "metadata": {
        "id": "UXWMiAJeIEYp"
      },
      "execution_count": null,
      "outputs": []
    }
  ]
}