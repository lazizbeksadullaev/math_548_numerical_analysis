{
  "nbformat": 4,
  "nbformat_minor": 0,
  "metadata": {
    "colab": {
      "provenance": []
    },
    "kernelspec": {
      "name": "python3",
      "display_name": "Python 3"
    },
    "language_info": {
      "name": "python"
    }
  },
  "cells": [
    {
      "cell_type": "markdown",
      "source": [
        "# Math 548, Midterm. Problem 4. LS"
      ],
      "metadata": {
        "id": "FJ4ONah9v6z_"
      }
    },
    {
      "cell_type": "markdown",
      "source": [
        "**Problem 4**\n",
        "\n",
        "(ii)\n",
        "\n",
        "(d) Now, use the iteration method given below to find the root of\n",
        "\n",
        "𝑓(𝑥) = 𝑒^𝑥 − 2 cos(𝑥) = 0 in the interval [0,2].\n",
        "\n",
        "Choose your starting values as x0 = 0.6 and y0 = 0.3388.\n",
        "\n",
        "yn+1 = yn (2 – f'(xn) yn)\n",
        "\n",
        "xn+1 = xn – yn+1 f(xn)\n",
        "\n",
        "(e) Compare your methods and results in (i) and (ii) and discuss any connections between (i) and (ii).\n",
        "\n"
      ],
      "metadata": {
        "id": "2Y78nToZBED_"
      }
    },
    {
      "cell_type": "markdown",
      "source": [
        "#Problem 4. (ii)"
      ],
      "metadata": {
        "id": "GYfLfFSF8wY9"
      }
    },
    {
      "cell_type": "code",
      "source": [
        "# Determine this solution using the Newton's method with a tolerance ε as 10^(-6)\n",
        "import numpy as np\n",
        "import math\n",
        "\n",
        "\n",
        "M = 6 # in case the program goes into infinite loops\n",
        "epsilon = 10**(-8)\n",
        "\n",
        "# f(x) = math.exp(x) - 2*math.cos(x)\n",
        "x0 = 0.6\n",
        "y0 = 0.3388\n",
        "for i in range(1, M):\n",
        "  y1 = y0*(2 - (math.exp(x0) + 2*math.sin(x0))*y0)\n",
        "  x1 = x0 - y1*(math.exp(x0) - 2*math.cos(x0))\n",
        "\n",
        "  v = math.exp(x1) - 2*math.cos(x1)\n",
        "  print(i, \"\\t \", x1, \"\\t\", v)\n",
        "  if abs(v) < epsilon:\n",
        "    break\n",
        "  y0 = y1\n",
        "  x0 = x1"
      ],
      "metadata": {
        "colab": {
          "base_uri": "https://localhost:8080/"
        },
        "id": "xsBKrE3Uc1HH",
        "outputId": "7c62e9b9-7825-4a49-de5c-b46002c85545"
      },
      "execution_count": null,
      "outputs": [
        {
          "output_type": "stream",
          "name": "stdout",
          "text": [
            "1 \t  0.5419098217166501 \t 0.005836841512263824\n",
            "2 \t  0.5397977761841749 \t 3.461107957947185e-05\n",
            "3 \t  0.5397851615702651 \t 2.087791273197581e-09\n"
          ]
        }
      ]
    },
    {
      "cell_type": "code",
      "source": [
        "# !sudo apt-get install texlive-xetex texlive-fonts-recommended texlive-plain-generic"
      ],
      "metadata": {
        "id": "5K6JDiLwvj6M"
      },
      "execution_count": null,
      "outputs": []
    },
    {
      "cell_type": "code",
      "source": [
        "# !jupyter nbconvert --to pdf /content/Math548_hw6_Lazizbek.ipynb"
      ],
      "metadata": {
        "id": "UXWMiAJeIEYp"
      },
      "execution_count": null,
      "outputs": []
    }
  ]
}