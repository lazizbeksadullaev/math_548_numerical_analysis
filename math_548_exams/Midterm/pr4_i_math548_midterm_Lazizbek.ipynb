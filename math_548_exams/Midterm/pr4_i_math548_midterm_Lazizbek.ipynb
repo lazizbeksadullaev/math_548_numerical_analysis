{
  "nbformat": 4,
  "nbformat_minor": 0,
  "metadata": {
    "colab": {
      "provenance": []
    },
    "kernelspec": {
      "name": "python3",
      "display_name": "Python 3"
    },
    "language_info": {
      "name": "python"
    }
  },
  "cells": [
    {
      "cell_type": "markdown",
      "source": [
        "# Math 548, Midterm. Problem 4. LS"
      ],
      "metadata": {
        "id": "FJ4ONah9v6z_"
      }
    },
    {
      "cell_type": "markdown",
      "source": [
        "**Problem 4**\n",
        "\n",
        "(i)\n",
        "\n",
        "(a) Use the Newton’s method for finding the root of\n",
        "\n",
        "𝑓(𝑥) = 𝑒^𝑥 − 2 cos(𝑥) = 0\n",
        "\n",
        "in the interval [0,2] with the starting value x0 = 2.\n",
        "\n",
        "(b) Carry out 6 iterations and comment on what you observe. If the observation needs any improvement, how will you go about it?\n",
        "\n",
        "(c) Show that the Newton’s method’s convergence is of second order.\n",
        "\n",
        "\n",
        "(ii)\n",
        "\n",
        "(d) Now, use the iteration method given below to find the root of\n",
        "\n",
        "𝑓(𝑥) = 𝑒^𝑥 − 2 cos(𝑥) = 0 in the interval [0,2].\n",
        "\n",
        "Choose your starting values as x0 = 0.6 and y0 = 0.3388.\n",
        "\n",
        "yn+1 = yn (2 – f'(xn) yn)\n",
        "\n",
        "xn+1 = xn – yn+1 f(xn)\n",
        "\n",
        "(e) Compare your methods and results in (i) and (ii) and discuss any connections between (i) and (ii).\n",
        "\n"
      ],
      "metadata": {
        "id": "2Y78nToZBED_"
      }
    },
    {
      "cell_type": "markdown",
      "source": [
        "#Problem 4. (i)"
      ],
      "metadata": {
        "id": "GYfLfFSF8wY9"
      }
    },
    {
      "cell_type": "code",
      "source": [
        "# In which interval it has a solution?\n",
        "\n",
        "import numpy as np\n",
        "import math\n",
        "\n",
        "# f(x) = math.exp(x) - 2*math.cos(x)\n",
        "\n",
        "f0 =  math.exp(0) - 2*math.cos(0) # f0 = - 1\n",
        "frightb = f0\n",
        "fleftb = f0\n",
        "fa = f0\n",
        "fc = f0\n",
        "solution_ints = list()\n",
        "b = 0\n",
        "a = 0\n",
        "c = 0\n",
        "# we'll run through [-b, a] or [c, b]\n",
        "\n",
        "for b in np.arange(0.0, 2.0, 0.001):\n",
        "  frightb = math.exp(b) - 2*math.cos(b)\n",
        "  fleftb = math.exp(-b) - 2*math.cos(-b)\n",
        "\n",
        "  if np.sign(fleftb) * np.sign(fa) <= 0: # fleftb >= 0 as fa = f0 = -1  < 0:\n",
        "    # print(\" = b \", b, \";\", \"fleftb = \", fleftb)\n",
        "    solution_ints.append([-b, a])\n",
        "    a = -b\n",
        "    fa = fleftb\n",
        "\n",
        "  if np.sign(frightb) * np.sign(fc) <= 0: # frightb >= 0 as fc = f0 = -1 < 0:\n",
        "    # print(\"b = \", b, \";\", \"frightb = \", frightb)\n",
        "    solution_ints.append([c, b])\n",
        "    c = b\n",
        "    fc = frightb\n",
        "\n",
        "print(\"solution intervals = \", solution_ints)"
      ],
      "metadata": {
        "colab": {
          "base_uri": "https://localhost:8080/"
        },
        "id": "Xdajpag39g6B",
        "outputId": "1ff8ffc5-4268-4274-f958-65582ee7d71c"
      },
      "execution_count": null,
      "outputs": [
        {
          "output_type": "stream",
          "name": "stdout",
          "text": [
            "solution intervals =  [[0, 0.54], [-1.454, 0]]\n"
          ]
        }
      ]
    },
    {
      "cell_type": "code",
      "source": [
        "# Determine this solution using the Newton's method with a tolerance ε as 10^(-6)\n",
        "from scipy.optimize import fsolve\n",
        "\n",
        "\n",
        "M = 6 # in case the program goes into infinite loops\n",
        "epsilon = 10**(-8)\n",
        "\n",
        "for i in range(1):\n",
        "  solution_int = [0, 2]\n",
        "\n",
        "  print(f\"\\nRoot {i+1} of f(x) in {solution_int} is as follows: \")\n",
        "  x0 = solution_int[1] #  x0=2 as required\n",
        "  v = math.exp(x0) - 2*math.cos(x0)  # starting function value at x0.\n",
        "\n",
        "  print(\"steps\", \"\\t \", \"x\", \"\\t\", \"\\t\", \"\\t\", \"f(x)\")\n",
        "\n",
        "  if abs(v) < epsilon:\n",
        "    print(0, \"\\t \", x0, \"\\t\", v)\n",
        "    x1 = x0\n",
        "    mnumer = (math.exp(x1) + 2*math.sin(x1))**2\n",
        "    mdenom = mnumer - (math.exp(x1) - 2*math.cos(x1))*(math.exp(x1) + 2*math.cos(x1))+0.00000001 # in case x0 is a desired root\n",
        "    m = mnumer/mdenom\n",
        "    print(\"m = \", m)\n",
        "    print(f\"multipilicity of the root {x1} is {round(m)}\")\n",
        "\n",
        "  else:\n",
        "    for k in range(1, M):\n",
        "      x1 = x0 - v/(math.exp(x0) + 2*math.sin(x0))\n",
        "      v = math.exp(x1) - 2*math.cos(x1)\n",
        "      print(k, \"\\t \", x1, \"\\t\", v)\n",
        "      if abs(v) < epsilon:\n",
        "        mnumer = (math.exp(x1) + 2*math.sin(x1))**2\n",
        "        mdenom = mnumer - (math.exp(x1) - 2*math.cos(x1))*(math.exp(x1) + 2*math.cos(x1))+0.00000001 # in case x0 is a desired root\n",
        "        m = mnumer/mdenom\n",
        "        print(\"\\nm = \", m)\n",
        "        print(f\"multipilicity of the root {x1} is {round(m)}\")\n",
        "        break\n",
        "      x0 = x1"
      ],
      "metadata": {
        "colab": {
          "base_uri": "https://localhost:8080/"
        },
        "id": "xsBKrE3Uc1HH",
        "outputId": "d86d0775-f8e5-41d6-8a99-18722a14ef7f"
      },
      "execution_count": null,
      "outputs": [
        {
          "output_type": "stream",
          "name": "stdout",
          "text": [
            "\n",
            "Root 1 of f(x) in [0, 2] is as follows: \n",
            "steps \t  x \t \t \t f(x)\n",
            "1 \t  1.1071175683826828 \t 2.1311417447814685\n",
            "2 \t  0.664462389989102 \t 0.3689486075980428\n",
            "3 \t  0.5483209267201882 \t 0.023543300836922132\n",
            "4 \t  0.5398302921852223 \t 0.00012382330442339828\n",
            "5 \t  0.5397851620829291 \t 3.494306399787206e-09\n",
            "\n",
            "m =  1.0000000002643719\n",
            "multipilicity of the root 0.5397851620829291 is 1\n"
          ]
        }
      ]
    },
    {
      "cell_type": "markdown",
      "source": [
        "**(c) Show that the Newton’s method’s convergence is of second order.**\n",
        "\n",
        "For this we need to show g(x*) = 0;\n",
        "\n",
        "g(x*) = 1-1/m = 1-1/1 = 0.\n",
        "\n"
      ],
      "metadata": {
        "id": "oCDPBUxyANXz"
      }
    },
    {
      "cell_type": "code",
      "source": [
        "# !sudo apt-get install texlive-xetex texlive-fonts-recommended texlive-plain-generic"
      ],
      "metadata": {
        "id": "5K6JDiLwvj6M"
      },
      "execution_count": null,
      "outputs": []
    },
    {
      "cell_type": "code",
      "source": [
        "# !jupyter nbconvert --to pdf /content/Math548_hw6_Lazizbek.ipynb"
      ],
      "metadata": {
        "id": "UXWMiAJeIEYp"
      },
      "execution_count": null,
      "outputs": []
    }
  ]
}