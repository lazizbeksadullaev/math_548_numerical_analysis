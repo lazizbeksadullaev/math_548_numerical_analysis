{
  "nbformat": 4,
  "nbformat_minor": 0,
  "metadata": {
    "colab": {
      "provenance": []
    },
    "kernelspec": {
      "name": "python3",
      "display_name": "Python 3"
    },
    "language_info": {
      "name": "python"
    }
  },
  "cells": [
    {
      "cell_type": "markdown",
      "source": [
        "# Math 548, Midterm. Problem 2. LS"
      ],
      "metadata": {
        "id": "FJ4ONah9v6z_"
      }
    },
    {
      "cell_type": "markdown",
      "source": [
        "**Problem 2**\n",
        "\n",
        "**Solve the following systems of linear equations with the Jacobi\n",
        "iteration method using the initial guess as [ 0, 0, 0 ].**\n",
        "\n",
        "*   In each case, will the Jacobi iteration converge to a solution? Give the\n",
        "justification for your answer?\n",
        "*   If yes, find the solutions."
      ],
      "metadata": {
        "id": "2Y78nToZBED_"
      }
    },
    {
      "cell_type": "markdown",
      "source": [
        "\n",
        "\n",
        "i.   \n",
        "\n",
        "```\n",
        "     [ 2  1  6][x1]   [ 9 ]\n",
        "\n",
        "     [ 8  3  2][x2] = [ 13]\n",
        "\n",
        "     [ 1  5  1][x3]   [ 7 ]\n",
        "```\n",
        "\n",
        "\n",
        "\n",
        "\n",
        "ii.  \n",
        "\n",
        "```\n",
        "     [ 8  3  2][x1]   [ 13]\n",
        "    \n",
        "     [ 1  5  1][x2] = [ 7 ]\n",
        "    \n",
        "     [ 2  1  6][x3]   [ 9 ]\n",
        "```\n",
        "\n"
      ],
      "metadata": {
        "id": "QzdN0RPvwSu1"
      }
    },
    {
      "cell_type": "markdown",
      "source": [
        "# Finding eigenstuff of a matrix\n",
        "[Source:](https://pythonnumericalmethods.berkeley.edu/notebooks/chapter15.04-Eigenvalues-and-Eigenvectors-in-Python.html)"
      ],
      "metadata": {
        "id": "y7EN7aP7saZa"
      }
    },
    {
      "cell_type": "code",
      "source": [
        "import numpy as np\n",
        "from numpy.linalg import eig\n",
        "a = np.array([[0, 2],\n",
        "              [2, 3]])\n",
        "w,v=eig(a)\n",
        "print('E-value:', w)\n",
        "print('E-vector', v)"
      ],
      "metadata": {
        "colab": {
          "base_uri": "https://localhost:8080/"
        },
        "id": "aABgPr1LOHoH",
        "outputId": "6a6fd592-6ec0-485d-d11a-2c6cdf3379c9"
      },
      "execution_count": null,
      "outputs": [
        {
          "output_type": "stream",
          "name": "stdout",
          "text": [
            "E-value: [-1.  4.]\n",
            "E-vector [[-0.89442719 -0.4472136 ]\n",
            " [ 0.4472136  -0.89442719]]\n"
          ]
        }
      ]
    },
    {
      "cell_type": "markdown",
      "source": [
        "# Solving Ax=b matrix equation\n",
        "[Source:](https://stackoverflow.com/questions/22163113/matrix-multiplication-solve-ax-b-solve-for-x)"
      ],
      "metadata": {
        "id": "hiOH8oD4slgZ"
      }
    },
    {
      "cell_type": "markdown",
      "source": [
        "#Problem 2. (i)"
      ],
      "metadata": {
        "id": "GYfLfFSF8wY9"
      }
    },
    {
      "cell_type": "markdown",
      "source": [
        "**To check with the actual(real) solution, here, I'm giving the real solution as well:**"
      ],
      "metadata": {
        "id": "cdSeAWAwAjxl"
      }
    },
    {
      "cell_type": "code",
      "source": [
        "# To solve Ax=b, We start by constructing the arrays for A and b.\n",
        "\n",
        "A = np.array([[ 2,  1,  6],\n",
        "              [ 8,  3,  2],\n",
        "              [ 1,  5,  1]])\n",
        "b = np.transpose(np.array([ 9,  13,  7]))\n",
        "# To solve the system we do\n",
        "\n",
        "x = np.linalg.solve(A,b)\n",
        "print(\"Real solution: \")\n",
        "print(x)"
      ],
      "metadata": {
        "colab": {
          "base_uri": "https://localhost:8080/"
        },
        "id": "ehX1s9Ke8-dr",
        "outputId": "30f2c7c8-31bf-4d7d-de43-b961493472ee"
      },
      "execution_count": null,
      "outputs": [
        {
          "output_type": "stream",
          "name": "stdout",
          "text": [
            "Real solution: \n",
            "[1. 1. 1.]\n"
          ]
        }
      ]
    },
    {
      "cell_type": "markdown",
      "source": [
        "**Using Jacobi Iteration:**"
      ],
      "metadata": {
        "id": "n8LQ1Qxw9Ybr"
      }
    },
    {
      "cell_type": "code",
      "source": [
        "A = np.array([[ 2,  1,  6],\n",
        "              [ 8,  3,  2],\n",
        "              [ 1,  5,  1]])\n",
        "\n",
        "L = np.array([[ 0,  0,  0],\n",
        "              [ 8,  0,  0],\n",
        "              [ 1,  5,  0]])\n",
        "\n",
        "D = np.array([[ 2,  0,  0],\n",
        "              [ 0,  3,  0],\n",
        "              [ 0,  0,  1]])\n",
        "\n",
        "U = np.array([[ 0,  1,  6],\n",
        "              [ 0,  0,  2],\n",
        "              [ 0,  0,  0]])\n",
        "\n",
        "D_inverse =  np. linalg. inv(D)\n",
        "b = np.transpose(np.array([ 9,  13,  7]))\n",
        "D_inverse_b = np.dot(D_inverse, b)\n",
        "\n",
        "BJ = np.dot(-D_inverse, L+U)\n",
        "w,v=eig(BJ)\n",
        "\n",
        "print('BJ evalues:', w)\n",
        "\n",
        "# x0 = np.transpose(np.array([ 0,  0,  0]))\n",
        "# x = list();\n",
        "# x.append(x0)\n",
        "\n",
        "# for i in range(10):\n",
        "#   x1 = np.dot(BJ, x0)+ D_inverse_b\n",
        "#   x0 = x1\n",
        "#   x.append(x1)\n",
        "# Aproximations = np.array(x)\n",
        "# print(Aproximations)\n",
        "# print((2.083**2 + 2.312**2)**(1/2))"
      ],
      "metadata": {
        "colab": {
          "base_uri": "https://localhost:8080/"
        },
        "id": "WG9zvS7S9bzX",
        "outputId": "97ba406f-35f3-41e6-fa28-97762688e3ef"
      },
      "execution_count": null,
      "outputs": [
        {
          "output_type": "stream",
          "name": "stdout",
          "text": [
            "BJ evalues: [-4.16531114+0.j          2.08265557+2.31207612j  2.08265557-2.31207612j]\n"
          ]
        }
      ]
    },
    {
      "cell_type": "markdown",
      "source": [
        "*Because the spectral radius of matrix BJ,  P(BJ) = 4.16531114 > 1, Jacobi Iteration does NOT converge, so no need to turn on the part of the code for Jacobi iteration carried out.*"
      ],
      "metadata": {
        "id": "kfei-QzAFh3w"
      }
    },
    {
      "cell_type": "code",
      "source": [
        "# !sudo apt-get install texlive-xetex texlive-fonts-recommended texlive-plain-generic"
      ],
      "metadata": {
        "id": "5K6JDiLwvj6M"
      },
      "execution_count": 1,
      "outputs": []
    },
    {
      "cell_type": "code",
      "source": [
        "# !jupyter nbconvert --to pdf /content/Math548_hw6_Lazizbek.ipynb"
      ],
      "metadata": {
        "id": "UXWMiAJeIEYp"
      },
      "execution_count": null,
      "outputs": []
    }
  ]
}