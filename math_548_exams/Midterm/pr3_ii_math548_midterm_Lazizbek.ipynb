{
  "nbformat": 4,
  "nbformat_minor": 0,
  "metadata": {
    "colab": {
      "provenance": []
    },
    "kernelspec": {
      "name": "python3",
      "display_name": "Python 3"
    },
    "language_info": {
      "name": "python"
    }
  },
  "cells": [
    {
      "cell_type": "markdown",
      "source": [
        "# Math 548, Midterm. Problem 3. LS"
      ],
      "metadata": {
        "id": "FJ4ONah9v6z_"
      }
    },
    {
      "cell_type": "markdown",
      "source": [
        "**Problem 3**\n",
        "\n",
        "**You would like to use the fixed-point iteration method to find\n",
        "the roots of f (x) = x - x^2 = 0. Consider the following two formulations.**\n",
        "\n",
        "\n",
        "1.   \n",
        "\n",
        "```\n",
        "x = x + 2(x-x^2).\n",
        "```\n",
        "\n",
        "\n",
        "2.   \n",
        "\n",
        "```\n",
        "x = x - (x - x^2) / (1 - 2x).\n",
        "```\n",
        "a) For each formulation carry out the iterations first using the starting\n",
        "value 0.8 and then, using the starting value 0.2.\n",
        "\n",
        "b) Comment and justify your observations."
      ],
      "metadata": {
        "id": "2Y78nToZBED_"
      }
    },
    {
      "cell_type": "markdown",
      "source": [
        "# Problem 3. (ii)"
      ],
      "metadata": {
        "id": "LYF4b8e--kJo"
      }
    },
    {
      "cell_type": "markdown",
      "source": [
        "**x = x - (x - x^2) / (1 - 2x)**"
      ],
      "metadata": {
        "id": "-kRzHK5U-rIu"
      }
    },
    {
      "cell_type": "code",
      "source": [
        "import pandas as pd\n",
        "\n",
        "initials = list([0.8, 0.2])\n",
        "steps = list()\n",
        "approximations = list()\n",
        "epsilon = 0.000000001\n",
        "\n",
        "for i in range(2):\n",
        "  x0 = initials[i]\n",
        "  M = 10\n",
        "  try:\n",
        "    for k in range(M):\n",
        "      steps.append(k)\n",
        "      approximations.append(x0)\n",
        "      x1 = x0 - (x0 - (x0)**2) / (1 - 2*x0)\n",
        "      if abs(x0-x1) < epsilon:\n",
        "        print(f\"\\nWhen x0={initials[i]}, |g'({initials[i]})| < 1, so iteration converges with tolerance of {epsilon} in {k} steps as follows:\")\n",
        "        break\n",
        "      x0 = x1\n",
        "\n",
        "\n",
        "    d = {'step k = ': steps, 'approximation x = ': approximations}\n",
        "    df = pd.DataFrame(data=d)\n",
        "    print(df)\n",
        "    steps = []\n",
        "    approximations = []\n",
        "\n",
        "  except:\n",
        "    print(f\"\\nWhen x0={initials[i]}, |g'({initials[i]})|>=1, so iteration diverges in {k} steps as follows:\")\n",
        "    steps.pop()\n",
        "    approximations.pop()\n",
        "    d = {'step k = ': steps, 'approximation x = ': approximations}\n",
        "    df = pd.DataFrame(data=d)\n",
        "    print(df)\n",
        "    steps = []\n",
        "    approximations = []\n"
      ],
      "metadata": {
        "colab": {
          "base_uri": "https://localhost:8080/"
        },
        "id": "iJ1iFr70-vpA",
        "outputId": "c9265295-000c-470e-8966-709210759321"
      },
      "execution_count": null,
      "outputs": [
        {
          "output_type": "stream",
          "name": "stdout",
          "text": [
            "\n",
            "When x0=0.8, |g'(0.8)| < 1, so iteration converges with tolerance of 1e-09 in 4 steps as follows:\n",
            "   step k =   approximation x = \n",
            "0          0            0.800000\n",
            "1          1            1.066667\n",
            "2          2            1.003922\n",
            "3          3            1.000015\n",
            "4          4            1.000000\n",
            "\n",
            "When x0=0.2, |g'(0.2)| < 1, so iteration converges with tolerance of 1e-09 in 4 steps as follows:\n",
            "   step k =   approximation x = \n",
            "0          0        2.000000e-01\n",
            "1          1       -6.666667e-02\n",
            "2          2       -3.921569e-03\n",
            "3          3       -1.525902e-05\n",
            "4          4       -2.328306e-10\n"
          ]
        }
      ]
    },
    {
      "cell_type": "code",
      "source": [
        "# !sudo apt-get install texlive-xetex texlive-fonts-recommended texlive-plain-generic"
      ],
      "metadata": {
        "id": "5K6JDiLwvj6M"
      },
      "execution_count": null,
      "outputs": []
    },
    {
      "cell_type": "code",
      "source": [
        "# !jupyter nbconvert --to pdf /content/Math548_hw6_Lazizbek.ipynb"
      ],
      "metadata": {
        "id": "UXWMiAJeIEYp"
      },
      "execution_count": null,
      "outputs": []
    }
  ]
}