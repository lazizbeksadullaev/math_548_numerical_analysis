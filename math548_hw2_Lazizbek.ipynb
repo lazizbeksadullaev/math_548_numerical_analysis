{
  "nbformat": 4,
  "nbformat_minor": 0,
  "metadata": {
    "colab": {
      "provenance": []
    },
    "kernelspec": {
      "name": "python3",
      "display_name": "Python 3"
    },
    "language_info": {
      "name": "python"
    }
  },
  "cells": [
    {
      "cell_type": "markdown",
      "source": [
        "# Lazizbek Sadullaev, Math 548, HW #2"
      ],
      "metadata": {
        "id": "pilwp6ZoeC_R"
      }
    },
    {
      "cell_type": "markdown",
      "source": [
        "**Problem 1**\n",
        "\n",
        "Use the bisection method and find the roots of the equation x^3 -x^2 - x +1 = 0 in the respective intervals [-2, 0] and [0,2]. Choose the tolerance ε as 10^(-5). In each case, before starting the computations, estimate the number of iterations that you might need to find the respective root. Do your actual computations agree with your estimations? Explain your observations."
      ],
      "metadata": {
        "id": "2Y78nToZBED_"
      }
    },
    {
      "cell_type": "code",
      "execution_count": 48,
      "metadata": {
        "colab": {
          "base_uri": "https://localhost:8080/"
        },
        "id": "T24mkgET9cQh",
        "outputId": "60b01c1e-6761-439e-c5e7-2e6420d5fa05"
      },
      "outputs": [
        {
          "output_type": "stream",
          "name": "stdout",
          "text": [
            "a = -2\n",
            "b = 0\n",
            "delta = 0.000001\n",
            "epsilon = 0.000001\n",
            "Please enter M as bigger than 21 \n",
            "M = 23\n",
            "a =  -2.0\n",
            "f(a) =  -9.0\n",
            "f(b) =  1.0\n",
            "number of iterations k =  1\n",
            "Using Python's fsolve function, fsolve(f, [2, 3]) =  1.0\n",
            "middle of the interval , and in turn approximate solution c =  -1.0\n",
            "funtion value in the middle w =  0.0\n",
            "halving the interval e =  1.0\n",
            "a = 0\n",
            "b = 2\n",
            "delta = 0.000001\n",
            "epsilon = 0.000001\n",
            "Please enter M as bigger than 21 \n",
            "M = 23\n",
            "a =  0.0\n",
            "f(a) =  1.0\n",
            "f(b) =  3.0\n",
            "There's no simple solution because the signs of the function at the boundries are eqaul\n"
          ]
        }
      ],
      "source": [
        "import numpy as np\n",
        "import math\n",
        "\n",
        "from scipy.optimize import fsolve\n",
        "\n",
        "\n",
        "for _ in range(2):\n",
        "  # f = x^3 - x^2 -x +1\n",
        "  a = float(input(\"a = \"))\n",
        "  b = float(input(\"b = \"))\n",
        "\n",
        "  delta = float(input(\"delta = \"))\n",
        "  epsilon = float(input(\"epsilon = \"))\n",
        "  count = 0\n",
        "  # |x-xn|<epsilon, |x-xn|<bn-an, if bn-an<epsilon, i.e. (b0-a0)/2**n<epsilon\n",
        "  # (b0-a0)/epsilon < 2**n\n",
        "  # math.log((b0-a0)/epsilon, 2) < n, So\n",
        "  print(f\"Please enter M as bigger than {math.ceil(math.log((b-a)/epsilon, 2))} \")\n",
        "  M = int(input(\"M = \"))\n",
        "\n",
        "  u = a**3 - a**2 - a + 1\n",
        "  v= b**3 - b**2 - b + 1\n",
        "  e = b - a\n",
        "  print(\"a = \", a)\n",
        "  print(\"f(a) = \", u)\n",
        "  print(\"f(b) = \", v)\n",
        "\n",
        "  if np.sign(u) == np.sign(v):\n",
        "      print(\"There's no simple solution because the signs of the function at the boundries are eqaul\")\n",
        "      count = count + 1\n",
        "  else:\n",
        "      for k in range(1, M):\n",
        "          count = count + 1\n",
        "          e = e/2\n",
        "          c = a + e\n",
        "          w = c**3 - c**2 - c + 1\n",
        "          if abs(e) < delta or abs(w)<epsilon:\n",
        "              break\n",
        "          if np.sign(w) != np.sign(u):\n",
        "              b = c\n",
        "              v = w\n",
        "          else:\n",
        "              a = c\n",
        "              u = w\n",
        "\n",
        "      f = lambda x: x**3 -x**2 - x +1\n",
        "      print(\"number of iterations k = \", k)\n",
        "      print(\"Using Python's fsolve function, fsolve(f, [2, 3]) = \",  *fsolve(f, solution_int[1]))\n",
        "      print(\"middle of the interval , and in turn approximate solution c = \", c)\n",
        "      print(\"funtion value in the middle w = \", w)\n",
        "      print(\"halving the interval e = \", e)"
      ]
    },
    {
      "cell_type": "markdown",
      "source": [
        "**Problem 2**\n",
        "\n",
        "Consider the problem x = (2 – e^(x) + x^2)/3.\n",
        "* In which interval it has a slution?\n",
        "* Determine this solution using the Newton's method with a tolerance ε as 10(-5)\n"
      ],
      "metadata": {
        "id": "N-Pc6oAg_UcE"
      }
    },
    {
      "cell_type": "markdown",
      "source": [
        "Then after a couple of simplifications to force the given equation to the form of f(x)=0, we have that\n",
        "  \n",
        "  e^(x) - x^2 + 3x -2 = 0\n",
        "\n",
        "Then, we have that\n",
        "\n",
        "  f(x) = e^(x) - x^2 + 3x -2\n",
        "\n",
        "Using  f(x), f'(x) is\n",
        "\n",
        "  f'(x) = e^(x) - 2x + 3\n"
      ],
      "metadata": {
        "id": "fmUJz9xG_3ix"
      }
    },
    {
      "cell_type": "code",
      "source": [
        "# In which interval it has a slution?\n",
        "\n",
        "import numpy as np\n",
        "import math\n",
        "\n",
        "# f(x) = e^(x) - x^2 + 3x -2\n",
        "f0 = math.exp(0) - 0**2 + 3*0 - 2 # f0 = -1\n",
        "frightb = f0\n",
        "fleftb = f0\n",
        "b = 0\n",
        "# while frightb < 0 or fleftb < 0:\n",
        "#   b = b + 1\n",
        "#   frightb = math.exp(b) - b**2 + 3*b - 2\n",
        "#   fleftb = math.exp(-b) - (-b)**2 + 3*(-b) - 2\n",
        "for b in range(100):\n",
        "  frightb = math.exp(b) - b**2 + 3*b - 2\n",
        "  fleftb = math.exp(-b) - (-b)**2 + 3*(-b) - 2\n",
        "  if fleftb >= 0:\n",
        "    solution_int = [-b, 0]\n",
        "    break\n",
        "  if frightb >= 0:\n",
        "    solution_int = [0, b]\n",
        "    break\n",
        "\n",
        "# if fleftb >= 0:\n",
        "#   solution_int = [-b, 0]\n",
        "# else:\n",
        "#   solution_int = [0, b]\n",
        "\n",
        "print(\"solution interval = \", solution_int)"
      ],
      "metadata": {
        "colab": {
          "base_uri": "https://localhost:8080/"
        },
        "id": "ftnQPzCCB7RT",
        "outputId": "ac603930-4b59-48ee-cdc1-328a74d70bef"
      },
      "execution_count": 49,
      "outputs": [
        {
          "output_type": "stream",
          "name": "stdout",
          "text": [
            "solution interval =  [0, 1]\n"
          ]
        }
      ]
    },
    {
      "cell_type": "code",
      "source": [
        "# Determine this solution using the Newton's method with a tolerance ε as 10(-5)\n",
        "\n",
        "from scipy.optimize import fsolve\n",
        "\n",
        "x0 = solution_int[1] # x0 = 1, starting from right!\n",
        "# print(f\"Please enter M as bigger than {math.ceil(math.log((solution_int[1]-solution_int[0])/epsilon, 2))} \")\n",
        "M = 10**6 # in case the program goes into infinite loops\n",
        "epsilon = 10**(-5)\n",
        "v = math.exp(x0) - (x0)**2 + 3*(x0) - 2  # starting function value on the right\n",
        "\n",
        "print(\"steps\", \"\\t \", \"x\", \"\\t\", \"\\t\", \"\\t\", \"f(x)\")\n",
        "\n",
        "if abs(v) < epsilon:\n",
        "  print(0, \"\\t \", x0, \"\\t\", v)\n",
        "else:\n",
        "  for k in range(1, M):\n",
        "    x1 = x0 - v/(math.exp(x0) - 2*x0 +3)\n",
        "    v = math.exp(x1) - (x1)**2 + 3*(x1) - 2\n",
        "    print(k, \"\\t \", x1, \"\\t\", v)\n",
        "    if abs(v) < epsilon:\n",
        "      break\n",
        "    x0 = x1\n",
        "print(f\"\\nSo the approximate solution after {k} steps is x = {x1}\")\n",
        "\n",
        "\n",
        "# The function fsolve takes in many arguments that you can find in the documentation,\n",
        "# but the most important two is the function you want to find the root, and the initial guess interval.\n",
        "f = lambda x: math.exp(x) - (x)**2 + 3*(x) - 2\n",
        "\n",
        "print(\"Using Python's fsolve function, fsolve(f, [2, 3]) = \",  *fsolve(f, solution_int[1]))"
      ],
      "metadata": {
        "colab": {
          "base_uri": "https://localhost:8080/"
        },
        "id": "N7fkVR4mHSA4",
        "outputId": "52530b41-1ac6-4f8f-838b-a5fe178ea0c7"
      },
      "execution_count": 50,
      "outputs": [
        {
          "output_type": "stream",
          "name": "stdout",
          "text": [
            "steps \t  x \t \t \t f(x)\n",
            "1 \t  0.2689414213699952 \t 0.04307326004788026\n",
            "2 \t  0.2575182612570967 \t -4.543547480073684e-05\n",
            "3 \t  0.2575302854263488 \t -5.1057158501066624e-11\n",
            "\n",
            "So the approximate solution after 3 steps is x = 0.2575302854263488\n",
            "Using Python's fsolve function, fsolve(f, [2, 3]) =  0.2575302854398608\n"
          ]
        }
      ]
    },
    {
      "cell_type": "markdown",
      "source": [
        "**Problem 8**\n",
        "\n",
        "Find 5**(1/2) using the Newton's method."
      ],
      "metadata": {
        "id": "8ycVYsPBSxF7"
      }
    },
    {
      "cell_type": "markdown",
      "source": [
        "*For this problem 3, let's try to find the roots of f(x) = x^2-5 with the tolerance of epsilon=10^(-5) in the interval [2, 3] because 2 <= 5^(1/2) <= 3.*\n",
        "\n",
        "So we have that\n",
        "\n",
        "f(x) = x^2 - 5\n",
        "\n",
        "Using f(x), f'(x) is\n",
        "\n",
        "f'(x) = 2x."
      ],
      "metadata": {
        "id": "qS8Ria1fTN6p"
      }
    },
    {
      "cell_type": "code",
      "source": [
        "# Similar code above:\n",
        "x0 = 3 # x0 = 3, starting from right!\n",
        "# print(f\"Please enter M as bigger than {math.ceil(math.log((solution_int[1]-solution_int[0])/epsilon, 2))} \")\n",
        "M = 10**6 # in case the program goes into infinite loops\n",
        "epsilon = 10**(-5)\n",
        "v = (x0)**2 - 5  # starting function value on the right\n",
        "\n",
        "print(\"steps\", \"\\t \", \"x\", \"\\t\", \"\\t\", \"\\t\", \"f(x)\")\n",
        "\n",
        "if abs(v) < epsilon:\n",
        "  print(0, \"\\t \", x0, \"\\t\", v)\n",
        "else:\n",
        "  for k in range(1, M):\n",
        "    x1 = x0 - v/(2*x0)\n",
        "    v = (x1)**2 - 5\n",
        "\n",
        "    if abs(v) < epsilon:\n",
        "      print(k, \"\\t \", x1, \"\\t\", v)\n",
        "      break\n",
        "    x0 = x1\n",
        "print(f\"\\nSo the approximate value of 5^(1/2) after {k} steps is 5^(1/2) ~ {x1}\")"
      ],
      "metadata": {
        "colab": {
          "base_uri": "https://localhost:8080/"
        },
        "id": "DXQMgPh2T4IM",
        "outputId": "035122ef-0827-45d2-bf10-612a36c0c46d"
      },
      "execution_count": 51,
      "outputs": [
        {
          "output_type": "stream",
          "name": "stdout",
          "text": [
            "steps \t  x \t \t \t f(x)\n",
            "3 \t  2.2360688956433634 \t 4.106063730802134e-06\n",
            "\n",
            "So the approximate value of 5^(1/2) after 3 steps is 5^(1/2) ~ 2.2360688956433634\n"
          ]
        }
      ]
    },
    {
      "cell_type": "code",
      "source": [
        "from scipy.optimize import fsolve\n",
        "f = lambda x: x**2-5\n",
        "\n",
        "# The function fsolve takes in many arguments that you can find in the documentation,\n",
        "# but the most important two is the function you want to find the root, and the initial guess interval.\n",
        "print(\"Using Python's fsolve function, fsolve(f, [2, 3]) = \",  *fsolve(f, [2, 3]))"
      ],
      "metadata": {
        "colab": {
          "base_uri": "https://localhost:8080/"
        },
        "id": "78H6hjwfymOU",
        "outputId": "40ff16e8-c9d3-4126-e8d3-4cff4b085f3e"
      },
      "execution_count": 52,
      "outputs": [
        {
          "output_type": "stream",
          "name": "stdout",
          "text": [
            "Using Python's fsolve function, fsolve(f, [2, 3]) =  2.236067977499943 2.2360679774997876\n"
          ]
        }
      ]
    },
    {
      "cell_type": "code",
      "source": [],
      "metadata": {
        "id": "qjqfMAc40_dP"
      },
      "execution_count": null,
      "outputs": []
    }
  ]
}