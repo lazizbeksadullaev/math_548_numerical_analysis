{
  "nbformat": 4,
  "nbformat_minor": 0,
  "metadata": {
    "colab": {
      "provenance": []
    },
    "kernelspec": {
      "name": "python3",
      "display_name": "Python 3"
    },
    "language_info": {
      "name": "python"
    }
  },
  "cells": [
    {
      "cell_type": "markdown",
      "source": [
        "# Lazizbek Sadullaev, Math 548, HW #4"
      ],
      "metadata": {
        "id": "pilwp6ZoeC_R"
      }
    },
    {
      "cell_type": "markdown",
      "source": [
        "**Problem 1**\n",
        "\n",
        "A small community has a population of 400, of which, at time 0, 201 are infected with a disease and thirteen are vaccinated against the disease. The infected are well mixed within the community. Write down an appropriate disease model. If the rate of infection is 0.001 and the rate of recovery is 0.1, show  that the disease will grow. When the disease epidemic is at its highest point,  how many people are infected? At that time, how many susceptible persons are there? Finally, when the disease dies out, are there any susceptible persons left? Give your answer and show how you arrived at the answer."
      ],
      "metadata": {
        "id": "2Y78nToZBED_"
      }
    },
    {
      "cell_type": "markdown",
      "source": [
        "The model based on my previous calculations is as follows:\n",
        "\n",
        "I(S) = 397 - S + 100*ln(S/186)\n",
        "\n",
        "When the disease dies out, are there any susceptible persons left?\n",
        "I am going to solve I(S\\*) = 0 to answer the question above. For that, since we have Newton failing point at I'(S)=0, I am going to use the **Bisection** method"
      ],
      "metadata": {
        "id": "7NhgcSsCHarC"
      }
    },
    {
      "cell_type": "code",
      "execution_count": 18,
      "metadata": {
        "colab": {
          "base_uri": "https://localhost:8080/"
        },
        "id": "T24mkgET9cQh",
        "outputId": "2270f344-ff46-4eb9-bdbb-59cb365ac195"
      },
      "outputs": [
        {
          "output_type": "stream",
          "name": "stdout",
          "text": [
            "Please enter M as bigger than 30 \n",
            "M = 36\n",
            "a =  0.001\n",
            "f(a) =  -816.3511952695337\n",
            "f(b) =  234.94235122748898\n",
            "number of iterations k =  30\n",
            "Using Python's fsolve function, fsolve(f, [0.001, 100]) =  3.6406157567362083\n",
            "middle of the interval , and in turn approximate solution c =  3.640615717840381\n",
            "funtion value in the middle w =  -1.0294901926499733e-06\n",
            "halving the interval e =  9.313132613897323e-08\n"
          ]
        }
      ],
      "source": [
        "  import numpy as np\n",
        "  import math\n",
        "\n",
        "  from scipy.optimize import fsolve\n",
        "  a = 0.001 # since ln(S/186) has a discontinuity at s = 0, is s* < 1,\n",
        "  # then I know there's no susceptible so no worry about that in case of the root very close to 0.\n",
        "  b = 100 # I am starting the right side from max point, s bar.\n",
        "  solution_int = [a, b]\n",
        "\n",
        "  delta = 0.0000001\n",
        "  epsilon = 0.0000001\n",
        "  count = 0\n",
        "  # |x-xn|<epsilon, |x-xn|<bn-an, if bn-an<epsilon, i.e. (b0-a0)/2**n<epsilon\n",
        "  # (b0-a0)/epsilon < 2**n\n",
        "  # math.log((b0-a0)/epsilon, 2) < n, So\n",
        "  print(f\"Please enter M as bigger than {math.ceil(math.log((b-a)/epsilon, 2))} \")\n",
        "  M = int(input(\"M = \"))\n",
        "\n",
        "  u = 397 - a + 100*math.log(a/186)\n",
        "  v= 397 - b + 100*math.log(b/186)\n",
        "  e = b - a\n",
        "  print(\"a = \", a)\n",
        "  print(\"f(a) = \", u)\n",
        "  print(\"f(b) = \", v)\n",
        "\n",
        "  if np.sign(u) == np.sign(v):\n",
        "      print(\"There's no simple solution because the signs of the function at the boundries are eqaul\")\n",
        "      count = count + 1\n",
        "  else:\n",
        "      for k in range(1, M):\n",
        "          count = count + 1\n",
        "          e = e/2\n",
        "          c = a + e\n",
        "          w = 397 - c + 100*math.log(c/186)\n",
        "          if abs(e) < delta or abs(w)<epsilon:\n",
        "              break\n",
        "          if np.sign(w) != np.sign(u):\n",
        "              b = c\n",
        "              v = w\n",
        "          else:\n",
        "              a = c\n",
        "              u = w\n",
        "\n",
        "      f = lambda x: 397 - x + 100*math.log(x/186)\n",
        "      print(\"number of iterations k = \", k)\n",
        "      print(f\"Using Python's fsolve function, fsolve(f, {solution_int}) = \",  *fsolve(f, 0.01))\n",
        "      print(\"middle of the interval , and in turn approximate solution c = \", c)\n",
        "      print(\"funtion value in the middle w = \", w)\n",
        "      print(\"halving the interval e = \", e)"
      ]
    },
    {
      "cell_type": "code",
      "source": [],
      "metadata": {
        "id": "NrDMYUggOHaz"
      },
      "execution_count": null,
      "outputs": []
    }
  ]
}