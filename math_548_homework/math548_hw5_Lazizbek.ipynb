{
  "nbformat": 4,
  "nbformat_minor": 0,
  "metadata": {
    "colab": {
      "provenance": []
    },
    "kernelspec": {
      "name": "python3",
      "display_name": "Python 3"
    },
    "language_info": {
      "name": "python"
    }
  },
  "cells": [
    {
      "cell_type": "markdown",
      "source": [
        "# Lazizbek Sadullaev, Math 548, HW #5"
      ],
      "metadata": {
        "id": "pilwp6ZoeC_R"
      }
    },
    {
      "cell_type": "markdown",
      "source": [
        "#Homework-5\n",
        "\n",
        "**Solve the following equations using the fixed point iteration method. In each case use the starting values as 2, 0.8 and 0.2.**\n",
        "\n",
        "1.   x = x^2\n",
        "2.   x = x^(1/2)\n",
        "3.   x = x + 2*(x - x^2)\n",
        "4.   x = x - (x - x^2) / (1 - 2*x)\n",
        "\n",
        "\n",
        "How will you justify each result you obtain?"
      ],
      "metadata": {
        "id": "2Y78nToZBED_"
      }
    },
    {
      "cell_type": "markdown",
      "source": [
        "#Problem 1:\n",
        "x = x^2"
      ],
      "metadata": {
        "id": "UD3hHy4WODTd"
      }
    },
    {
      "cell_type": "code",
      "source": [
        "import pandas as pd\n",
        "\n",
        "initials = list([2, 0.8, 0.2])\n",
        "steps = list()\n",
        "approximations = list()\n",
        "epsilon = 0.000000001\n",
        "\n",
        "for i in range(3):\n",
        "  x0 = initials[i]\n",
        "  M = 15\n",
        "  try:\n",
        "    for k in range(M):\n",
        "      steps.append(k)\n",
        "      approximations.append(x0)\n",
        "      x1 = x0**2\n",
        "      if abs(x0-x1) < epsilon:\n",
        "        print(f\"\\nWhen x0={initials[i]}, |g'({initials[i]})| < 1, so iteration converges with tolerance of {epsilon} in {k} steps as follows:\")\n",
        "        break\n",
        "      x0 = x1\n",
        "\n",
        "\n",
        "      # print(\"k = \", \"\\t\", \"x= \")\n",
        "    d = {'step k = ': steps, 'approximation x = ': approximations}\n",
        "    df = pd.DataFrame(data=d)\n",
        "    print(df)\n",
        "    steps = []\n",
        "    approximations = []\n",
        "\n",
        "  except:\n",
        "    print(f\"\\nWhen x0={initials[i]}, |g'({initials[i]})|>=1, so iteration diverges in {k} steps as follows:\")\n",
        "    steps.pop()\n",
        "    approximations.pop()\n",
        "    d = {'step k = ': steps, 'approximation x = ': approximations}\n",
        "    df = pd.DataFrame(data=d)\n",
        "    print(df)\n",
        "    steps = []\n",
        "    approximations = []\n"
      ],
      "metadata": {
        "colab": {
          "base_uri": "https://localhost:8080/"
        },
        "id": "XYZ8seG1n3Cv",
        "outputId": "d193af50-d3da-43f6-a29c-66af7781de37"
      },
      "execution_count": null,
      "outputs": [
        {
          "output_type": "stream",
          "name": "stdout",
          "text": [
            "\n",
            "When x0=2, |g'(2)|>=1, so iteration diverges in 14 steps as follows:\n",
            "    step k =                                  approximation x = \n",
            "0           0                                                  2\n",
            "1           1                                                  4\n",
            "2           2                                                 16\n",
            "3           3                                                256\n",
            "4           4                                              65536\n",
            "5           5                                         4294967296\n",
            "6           6                               18446744073709551616\n",
            "7           7            340282366920938463463374607431768211456\n",
            "8           8  1157920892373161954235709850086879078532699846...\n",
            "9           9  1340780792994259709957402499820584612747936582...\n",
            "10         10  1797693134862315907729305190789024733617976978...\n",
            "11         11  3231700607131100730071487668866995196044410266...\n",
            "12         12  1044388881413152506691752710716624382579964249...\n",
            "13         13  1090748135619415929462984244733782862448264161...\n",
            "\n",
            "When x0=0.8, |g'(0.8)| < 1, so iteration converges with tolerance of 1e-09 in 7 steps as follows:\n",
            "   step k =   approximation x = \n",
            "0          0        8.000000e-01\n",
            "1          1        6.400000e-01\n",
            "2          2        4.096000e-01\n",
            "3          3        1.677722e-01\n",
            "4          4        2.814750e-02\n",
            "5          5        7.922816e-04\n",
            "6          6        6.277102e-07\n",
            "7          7        3.940201e-13\n",
            "\n",
            "When x0=0.2, |g'(0.2)| < 1, so iteration converges with tolerance of 1e-09 in 4 steps as follows:\n",
            "   step k =   approximation x = \n",
            "0          0        2.000000e-01\n",
            "1          1        4.000000e-02\n",
            "2          2        1.600000e-03\n",
            "3          3        2.560000e-06\n",
            "4          4        6.553600e-12\n"
          ]
        }
      ]
    },
    {
      "cell_type": "markdown",
      "source": [
        "#Problem 2:\n",
        "x = x^(1/2)"
      ],
      "metadata": {
        "id": "ZEh_G3M7OMNU"
      }
    },
    {
      "cell_type": "code",
      "source": [
        "import pandas as pd\n",
        "\n",
        "initials = list([2, 0.8, 0.2])\n",
        "steps = list()\n",
        "approximations = list()\n",
        "epsilon = 0.000001\n",
        "\n",
        "for i in range(3):\n",
        "  x0 = initials[i]\n",
        "  M = 30\n",
        "  try:\n",
        "    for k in range(M):\n",
        "      steps.append(k)\n",
        "      approximations.append(x0)\n",
        "      x1 = x0**(1/2)\n",
        "      if abs(x0-x1) < epsilon:\n",
        "        print(f\"\\nWhen x0={initials[i]}, |g'({initials[i]})| < 1, so iteration converges with tolerance of {epsilon} in {k} steps as follows:\")\n",
        "        break\n",
        "      x0 = x1\n",
        "\n",
        "\n",
        "      # print(\"k = \", \"\\t\", \"x= \")\n",
        "    d = {'step k = ': steps, 'approximation x = ': approximations}\n",
        "    df = pd.DataFrame(data=d)\n",
        "    print(df)\n",
        "    steps = []\n",
        "    approximations = []\n",
        "\n",
        "  except:\n",
        "    print(f\"\\nWhen x0={initials[i]}, |g'({initials[i]})|>=1, so iteration diverges in {k} steps as follows:\")\n",
        "    steps.pop()\n",
        "    approximations.pop()\n",
        "    d = {'step k = ': steps, 'approximation x = ': approximations}\n",
        "    df = pd.DataFrame(data=d)\n",
        "    print(df)\n",
        "    steps = []\n",
        "    approximations = []\n"
      ],
      "metadata": {
        "colab": {
          "base_uri": "https://localhost:8080/"
        },
        "id": "mTHhK4KHOQgM",
        "outputId": "0e1cb796-a6e6-4123-ffee-fa3630137790"
      },
      "execution_count": null,
      "outputs": [
        {
          "output_type": "stream",
          "name": "stdout",
          "text": [
            "\n",
            "When x0=2, |g'(2)| < 1, so iteration converges with tolerance of 1e-06 in 19 steps as follows:\n",
            "    step k =   approximation x = \n",
            "0           0            2.000000\n",
            "1           1            1.414214\n",
            "2           2            1.189207\n",
            "3           3            1.090508\n",
            "4           4            1.044274\n",
            "5           5            1.021897\n",
            "6           6            1.010889\n",
            "7           7            1.005430\n",
            "8           8            1.002711\n",
            "9           9            1.001355\n",
            "10         10            1.000677\n",
            "11         11            1.000339\n",
            "12         12            1.000169\n",
            "13         13            1.000085\n",
            "14         14            1.000042\n",
            "15         15            1.000021\n",
            "16         16            1.000011\n",
            "17         17            1.000005\n",
            "18         18            1.000003\n",
            "19         19            1.000001\n",
            "\n",
            "When x0=0.8, |g'(0.8)| < 1, so iteration converges with tolerance of 1e-06 in 17 steps as follows:\n",
            "    step k =   approximation x = \n",
            "0           0            0.800000\n",
            "1           1            0.894427\n",
            "2           2            0.945742\n",
            "3           3            0.972492\n",
            "4           4            0.986150\n",
            "5           5            0.993051\n",
            "6           6            0.996519\n",
            "7           7            0.998258\n",
            "8           8            0.999129\n",
            "9           9            0.999564\n",
            "10         10            0.999782\n",
            "11         11            0.999891\n",
            "12         12            0.999946\n",
            "13         13            0.999973\n",
            "14         14            0.999986\n",
            "15         15            0.999993\n",
            "16         16            0.999997\n",
            "17         17            0.999998\n",
            "\n",
            "When x0=0.2, |g'(0.2)| < 1, so iteration converges with tolerance of 1e-06 in 20 steps as follows:\n",
            "    step k =   approximation x = \n",
            "0           0            0.200000\n",
            "1           1            0.447214\n",
            "2           2            0.668740\n",
            "3           3            0.817765\n",
            "4           4            0.904304\n",
            "5           5            0.950949\n",
            "6           6            0.975166\n",
            "7           7            0.987505\n",
            "8           8            0.993733\n",
            "9           9            0.996862\n",
            "10         10            0.998430\n",
            "11         11            0.999214\n",
            "12         12            0.999607\n",
            "13         13            0.999804\n",
            "14         14            0.999902\n",
            "15         15            0.999951\n",
            "16         16            0.999975\n",
            "17         17            0.999988\n",
            "18         18            0.999994\n",
            "19         19            0.999997\n",
            "20         20            0.999998\n"
          ]
        }
      ]
    },
    {
      "cell_type": "markdown",
      "source": [
        "#Problem 3:\n",
        "x = x + 2*(x - x^2)"
      ],
      "metadata": {
        "id": "zkhD6_8POSRI"
      }
    },
    {
      "cell_type": "code",
      "source": [
        "import pandas as pd\n",
        "\n",
        "\n",
        "initials = list([2, 0.8, 0.2])\n",
        "steps = list()\n",
        "approximations = list()\n",
        "epsilon = 0.000001\n",
        "\n",
        "for i in range(3):\n",
        "  x0 = initials[i]\n",
        "  M = 10\n",
        "  try:\n",
        "    for k in range(M):\n",
        "      steps.append(k)\n",
        "      approximations.append(x0)\n",
        "      x1 = x0 + 2*(x0 - x0**2)\n",
        "      if abs(x0-x1) < epsilon:\n",
        "        print(f\"\\nWhen x0={initials[i]}, |g'({initials[i]})| < 1, so iteration converges with tolerance of {epsilon} in {k} steps as follows:\")\n",
        "        break\n",
        "      x0 = x1\n",
        "      if abs(x0)>10000000000:\n",
        "        raise ValueError(f\"iteration diverges in {k} steps as follows:\")\n",
        "\n",
        "\n",
        "      # print(\"k = \", \"\\t\", \"x= \")\n",
        "    d = {'step k = ': steps, 'approximation x = ': approximations}\n",
        "    df = pd.DataFrame(data=d)\n",
        "    print(df)\n",
        "    steps = []\n",
        "    approximations = []\n",
        "\n",
        "  except:\n",
        "    print(f\"\\nWhen x0={initials[i]}, |g'({initials[i]})|>=1, so iteration diverges in {k} steps as follows:\")\n",
        "    steps.pop()\n",
        "    approximations.pop()\n",
        "    d = {'step k = ': steps, 'approximation x = ': approximations}\n",
        "    df = pd.DataFrame(data=d)\n",
        "    print(df)\n",
        "    steps = []\n",
        "    approximations = []\n"
      ],
      "metadata": {
        "colab": {
          "base_uri": "https://localhost:8080/"
        },
        "id": "JI6tKMI8OVjL",
        "outputId": "a540202c-9dbd-4408-edb0-b298beb93859"
      },
      "execution_count": null,
      "outputs": [
        {
          "output_type": "stream",
          "name": "stdout",
          "text": [
            "\n",
            "When x0=2, |g'(2)|>=1, so iteration diverges in 4 steps as follows:\n",
            "   step k =   approximation x = \n",
            "0          0                   2\n",
            "1          1                  -2\n",
            "2          2                 -14\n",
            "3          3                -434\n",
            "   step k =   approximation x = \n",
            "0          0            0.800000\n",
            "1          1            1.120000\n",
            "2          2            0.851200\n",
            "3          3            1.104517\n",
            "4          4            0.873635\n",
            "5          5            1.094429\n",
            "6          6            0.887738\n",
            "7          7            1.087057\n",
            "8          8            0.897786\n",
            "9          9            1.081319\n",
            "   step k =   approximation x = \n",
            "0          0            0.200000\n",
            "1          1            0.520000\n",
            "2          2            1.019200\n",
            "3          3            0.980063\n",
            "4          4            1.019142\n",
            "5          5            0.980125\n",
            "6          6            1.019085\n",
            "7          7            0.980186\n",
            "8          8            1.019028\n",
            "9          9            0.980247\n"
          ]
        }
      ]
    },
    {
      "cell_type": "markdown",
      "source": [
        "#Problem 4:\n",
        "x = x - (x - x^2) / (1 - 2*x)"
      ],
      "metadata": {
        "id": "skOIIQSQOWTZ"
      }
    },
    {
      "cell_type": "code",
      "source": [
        "import pandas as pd\n",
        "\n",
        "initials = list([2, 0.8, 0.2])\n",
        "steps = list()\n",
        "approximations = list()\n",
        "epsilon = 0.000000001\n",
        "\n",
        "for i in range(3):\n",
        "  x0 = initials[i]\n",
        "  M = 20\n",
        "  try:\n",
        "    for k in range(M):\n",
        "      steps.append(k)\n",
        "      approximations.append(x0)\n",
        "      x1 = x0 - (x0 - x0**2) / (1 - 2*x0)\n",
        "      if abs(x0-x1) < epsilon:\n",
        "        print(f\"\\nWhen x0={initials[i]}, |g'({initials[i]})| < 1, so iteration converges with tolerance of {epsilon} in {k} steps as follows:\")\n",
        "        break\n",
        "      x0 = x1\n",
        "\n",
        "\n",
        "      # print(\"k = \", \"\\t\", \"x= \")\n",
        "    d = {'step k = ': steps, 'approximation x = ': approximations}\n",
        "    df = pd.DataFrame(data=d)\n",
        "    print(df)\n",
        "    steps = []\n",
        "    approximations = []\n",
        "\n",
        "  except:\n",
        "    print(f\"\\nWhen x0={initials[i]}, |g'({initials[i]})|>=1, so iteration diverges in {k} steps as follows:\")\n",
        "    steps.pop()\n",
        "    approximations.pop()\n",
        "    d = {'step k = ': steps, 'approximation x = ': approximations}\n",
        "    df = pd.DataFrame(data=d)\n",
        "    print(df)\n",
        "    steps = []\n",
        "    approximations = []\n"
      ],
      "metadata": {
        "colab": {
          "base_uri": "https://localhost:8080/"
        },
        "id": "gEGRqUomGuq2",
        "outputId": "c784e195-2749-4346-91f1-e5c33b772676"
      },
      "execution_count": null,
      "outputs": [
        {
          "output_type": "stream",
          "name": "stdout",
          "text": [
            "\n",
            "When x0=2, |g'(2)| < 1, so iteration converges with tolerance of 1e-09 in 5 steps as follows:\n",
            "   step k =   approximation x = \n",
            "0          0            2.000000\n",
            "1          1            1.333333\n",
            "2          2            1.066667\n",
            "3          3            1.003922\n",
            "4          4            1.000015\n",
            "5          5            1.000000\n",
            "\n",
            "When x0=0.8, |g'(0.8)| < 1, so iteration converges with tolerance of 1e-09 in 4 steps as follows:\n",
            "   step k =   approximation x = \n",
            "0          0            0.800000\n",
            "1          1            1.066667\n",
            "2          2            1.003922\n",
            "3          3            1.000015\n",
            "4          4            1.000000\n",
            "\n",
            "When x0=0.2, |g'(0.2)| < 1, so iteration converges with tolerance of 1e-09 in 4 steps as follows:\n",
            "   step k =   approximation x = \n",
            "0          0        2.000000e-01\n",
            "1          1       -6.666667e-02\n",
            "2          2       -3.921569e-03\n",
            "3          3       -1.525902e-05\n",
            "4          4       -2.328306e-10\n"
          ]
        }
      ]
    },
    {
      "cell_type": "code",
      "source": [],
      "metadata": {
        "id": "AdM25Po3T9S-"
      },
      "execution_count": null,
      "outputs": []
    }
  ]
}