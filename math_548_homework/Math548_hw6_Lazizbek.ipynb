{
  "nbformat": 4,
  "nbformat_minor": 0,
  "metadata": {
    "colab": {
      "provenance": []
    },
    "kernelspec": {
      "name": "python3",
      "display_name": "Python 3"
    },
    "language_info": {
      "name": "python"
    }
  },
  "cells": [
    {
      "cell_type": "markdown",
      "source": [
        "# Lazizbek, Math 548, HW #6"
      ],
      "metadata": {
        "id": "FJ4ONah9v6z_"
      }
    },
    {
      "cell_type": "markdown",
      "source": [
        "#Homework-6\n",
        "\n",
        "**Solve the following systems of equations first using the Jacobi iteration method and then, using the Gauss-Seidel iteration method. In each case, answer these questions.**\n",
        "\n",
        "\n",
        "*   Does the Jacobi iteration converge to a solution? If yes, what is the solution? If no, what is the justification?\n",
        "*   Does the Gauss-Seidel iteration converge to a solution? If yes, what is the solution? If no, what is the justification?"
      ],
      "metadata": {
        "id": "2Y78nToZBED_"
      }
    },
    {
      "cell_type": "markdown",
      "source": [
        "\n",
        "\n",
        "1.   4x1 + x2 = 5, x1 - 5x2 = -4\n",
        "\n",
        "2.   [ 2 -1  0][x1]   [ 1]\n",
        "\n",
        "     [-1  2 -1][x2] = [ 0]\n",
        "\n",
        "     [ 0 -1  2][x3]   [ 1]\n",
        "\n",
        "\n",
        "3.   [ 2 -1  1][x1]   [-1]\n",
        "    \n",
        "     [ 2  2  2][x2] = [ 4]\n",
        "    \n",
        "     [-1 -1  2][x3]   [ 5]\n",
        "\n",
        "\n",
        "4.   [ 1  2 -2][x1]   [ 7]\n",
        "\n",
        "     [ 1  1  1][x2] = [ 2]\n",
        "\n",
        "     [ 2  2  1][x3]   [ 5]\n",
        "\n"
      ],
      "metadata": {
        "id": "QzdN0RPvwSu1"
      }
    },
    {
      "cell_type": "markdown",
      "source": [
        "# Finding eigenstuff of a matrix\n",
        "[Source:](https://pythonnumericalmethods.berkeley.edu/notebooks/chapter15.04-Eigenvalues-and-Eigenvectors-in-Python.html)"
      ],
      "metadata": {
        "id": "y7EN7aP7saZa"
      }
    },
    {
      "cell_type": "code",
      "source": [
        "import numpy as np\n",
        "from numpy.linalg import eig\n",
        "a = np.array([[0, 2],\n",
        "              [2, 3]])\n",
        "w,v=eig(a)\n",
        "print('E-value:', w)\n",
        "print('E-vector', v)"
      ],
      "metadata": {
        "colab": {
          "base_uri": "https://localhost:8080/"
        },
        "id": "aABgPr1LOHoH",
        "outputId": "1a9b8d36-1408-46f5-bd64-8ba46c0f4376"
      },
      "execution_count": 10,
      "outputs": [
        {
          "output_type": "stream",
          "name": "stdout",
          "text": [
            "E-value: [-1.  4.]\n",
            "E-vector [[-0.89442719 -0.4472136 ]\n",
            " [ 0.4472136  -0.89442719]]\n"
          ]
        }
      ]
    },
    {
      "cell_type": "markdown",
      "source": [
        "# Solving Ax=b matrix equation\n",
        "[Source:](https://stackoverflow.com/questions/22163113/matrix-multiplication-solve-ax-b-solve-for-x)"
      ],
      "metadata": {
        "id": "hiOH8oD4slgZ"
      }
    },
    {
      "cell_type": "markdown",
      "source": [
        "# Problem 1"
      ],
      "metadata": {
        "id": "S-pmnVf03b13"
      }
    },
    {
      "cell_type": "code",
      "source": [
        "# To solve Ax=b, We start by constructing the arrays for A and b.\n",
        "\n",
        "A = np.array([[ 4,  1],\n",
        "              [ 1, -5]])\n",
        "b = np.transpose(np.array([ 5, -4]))\n",
        "# To solve the system we do\n",
        "\n",
        "x = np.linalg.solve(A,b)\n",
        "print(\"Real solution: \")\n",
        "print(x)"
      ],
      "metadata": {
        "colab": {
          "base_uri": "https://localhost:8080/"
        },
        "id": "WgL-Hpcl3eRN",
        "outputId": "fd6d7f3d-fb8e-483b-cd01-fb7917d8364d"
      },
      "execution_count": 11,
      "outputs": [
        {
          "output_type": "stream",
          "name": "stdout",
          "text": [
            "Real solution: \n",
            "[1. 1.]\n"
          ]
        }
      ]
    },
    {
      "cell_type": "markdown",
      "source": [
        "**Using Jacobi Iteration:**"
      ],
      "metadata": {
        "id": "zq5q5AH94Gu_"
      }
    },
    {
      "cell_type": "code",
      "source": [
        "A = np.array([[ 4,  1],\n",
        "              [ 1, -5]])\n",
        "\n",
        "L = np.array([[ 0,  0],\n",
        "              [ 1,  0]])\n",
        "\n",
        "D = np.array([[ 4,  0],\n",
        "              [ 0,  -5]])\n",
        "\n",
        "U = np.array([[ 0,  1],\n",
        "              [ 0,  0]])\n",
        "\n",
        "D_inverse =  np. linalg. inv(D)\n",
        "b = np.transpose(np.array([ 5, -4]))\n",
        "D_inverse_b = np.dot(D_inverse, b)\n",
        "\n",
        "BJ = np.dot(-D_inverse, L+U)\n",
        "w,v=eig(BJ)\n",
        "\n",
        "print('BJ evalues:', w)\n",
        "\n",
        "x0 = np.transpose(np.array([0,0]))\n",
        "x = list();\n",
        "x.append(x0)\n",
        "\n",
        "for i in range(10):\n",
        "  x1 = np.dot(BJ, x0)+ D_inverse_b\n",
        "  x0 = x1\n",
        "  x.append(x1)\n",
        "Aproximations = np.array(x)\n",
        "print(Aproximations)"
      ],
      "metadata": {
        "colab": {
          "base_uri": "https://localhost:8080/"
        },
        "id": "u_74nVJE4p3I",
        "outputId": "6e1d6db3-747a-4e0e-8a26-ff1c304f95ff"
      },
      "execution_count": 12,
      "outputs": [
        {
          "output_type": "stream",
          "name": "stdout",
          "text": [
            "BJ evalues: [0.+0.2236068j 0.-0.2236068j]\n",
            "[[0.         0.        ]\n",
            " [1.25       0.8       ]\n",
            " [1.05       1.05      ]\n",
            " [0.9875     1.01      ]\n",
            " [0.9975     0.9975    ]\n",
            " [1.000625   0.9995    ]\n",
            " [1.000125   1.000125  ]\n",
            " [0.99996875 1.000025  ]\n",
            " [0.99999375 0.99999375]\n",
            " [1.00000156 0.99999875]\n",
            " [1.00000031 1.00000031]]\n"
          ]
        }
      ]
    },
    {
      "cell_type": "markdown",
      "source": [
        "*Because the spectral radius of matrix BJ,  P(BJ) = 0.22 < 1, Jacobi Iteration does converge.*"
      ],
      "metadata": {
        "id": "9KWH2yseFvx0"
      }
    },
    {
      "cell_type": "markdown",
      "source": [
        "**Using Gauss-Siedell Iteration:**"
      ],
      "metadata": {
        "id": "vNRxQWbx4q9_"
      }
    },
    {
      "cell_type": "code",
      "source": [
        "A = np.array([[ 4,  1],\n",
        "              [ 1, -5]])\n",
        "\n",
        "L = np.array([[ 0,  0],\n",
        "              [ 1,  0]])\n",
        "\n",
        "D = np.array([[ 4,  0],\n",
        "              [ 0,  -5]])\n",
        "\n",
        "U = np.array([[ 0,  1],\n",
        "              [ 0,  0]])\n",
        "\n",
        "DL_inverse =  np. linalg. inv(D+L)\n",
        "b = np.transpose(np.array([ 5, -4]))\n",
        "DL_inverse_b = np.dot(DL_inverse, b)\n",
        "\n",
        "BGS = np.dot(-DL_inverse, U)\n",
        "w,v=eig(BGS)\n",
        "\n",
        "print('BGS evalues:', w)\n",
        "\n",
        "x0 = np.transpose(np.array([ 0, 0]))\n",
        "x = list();\n",
        "x.append(x0)\n",
        "\n",
        "for i in range(10):\n",
        "  x1 = np.dot(BGS, x0)+ DL_inverse_b\n",
        "  x0 = x1\n",
        "  x.append(x1)\n",
        "Aproximations = np.array(x)\n",
        "print(Aproximations)"
      ],
      "metadata": {
        "colab": {
          "base_uri": "https://localhost:8080/"
        },
        "id": "LFnVF6aB4CQf",
        "outputId": "80e01d4d-4b5f-49b3-fd6b-f5aa410afdc9"
      },
      "execution_count": 13,
      "outputs": [
        {
          "output_type": "stream",
          "name": "stdout",
          "text": [
            "BGS evalues: [ 0.   -0.05]\n",
            "[[0.         0.        ]\n",
            " [1.25       1.05      ]\n",
            " [0.9875     0.9975    ]\n",
            " [1.000625   1.000125  ]\n",
            " [0.99996875 0.99999375]\n",
            " [1.00000156 1.00000031]\n",
            " [0.99999992 0.99999998]\n",
            " [1.         1.        ]\n",
            " [1.         1.        ]\n",
            " [1.         1.        ]\n",
            " [1.         1.        ]]\n"
          ]
        }
      ]
    },
    {
      "cell_type": "markdown",
      "source": [
        "*Because the spectral radius of matrix BGS, P(BGS) = 0.05 < 1, Gauss-Siedell Iteration does converge.*"
      ],
      "metadata": {
        "id": "nZnaSa5jEsoB"
      }
    },
    {
      "cell_type": "markdown",
      "source": [
        "**Comparison of BJ vs BGS, P(BJ) =  0.22 < 0.05 = P(BGS), Jacobi Iteration converges slower than Gauss-Siedell Iteration!**"
      ],
      "metadata": {
        "id": "EBDupvZMGBB6"
      }
    },
    {
      "cell_type": "markdown",
      "source": [
        "#Problem 2"
      ],
      "metadata": {
        "id": "GYfLfFSF8wY9"
      }
    },
    {
      "cell_type": "code",
      "source": [
        "# To solve Ax=b, We start by constructing the arrays for A and b.\n",
        "\n",
        "A = np.array([[ 2, -1,  0],\n",
        "              [-1,  2, -1],\n",
        "              [ 0, -1,  2]])\n",
        "b = np.transpose(np.array([ 1,  0,  1]))\n",
        "# To solve the system we do\n",
        "\n",
        "x = np.linalg.solve(A,b)\n",
        "print(\"Real solution: \")\n",
        "print(x)"
      ],
      "metadata": {
        "colab": {
          "base_uri": "https://localhost:8080/"
        },
        "id": "ehX1s9Ke8-dr",
        "outputId": "98c5322f-7ab8-4a7f-f636-28275e4f7c8f"
      },
      "execution_count": 14,
      "outputs": [
        {
          "output_type": "stream",
          "name": "stdout",
          "text": [
            "Real solution: \n",
            "[1. 1. 1.]\n"
          ]
        }
      ]
    },
    {
      "cell_type": "markdown",
      "source": [
        "**Using Jacobi Iteration:**"
      ],
      "metadata": {
        "id": "n8LQ1Qxw9Ybr"
      }
    },
    {
      "cell_type": "code",
      "source": [
        "A = np.array([[ 2, -1,  0],\n",
        "              [-1,  2, -1],\n",
        "              [ 0, -1,  2]])\n",
        "\n",
        "L = np.array([[ 0,  0,  0],\n",
        "              [-1,  0,  0],\n",
        "              [ 0, -1,  0]])\n",
        "\n",
        "D = np.array([[ 2,  0,  0],\n",
        "              [ 0,  2,  0],\n",
        "              [ 0,  0,  2]])\n",
        "\n",
        "U = np.array([[ 0, -1,  0],\n",
        "              [ 0,  0, -1],\n",
        "              [ 0,  0 ,  0]])\n",
        "\n",
        "D_inverse =  np. linalg. inv(D)\n",
        "b = np.transpose(np.array([ 1,  0,  1]))\n",
        "D_inverse_b = np.dot(D_inverse, b)\n",
        "\n",
        "BJ = np.dot(-D_inverse, L+U)\n",
        "w,v=eig(BJ)\n",
        "\n",
        "print('BJ evalues:', w)\n",
        "\n",
        "x0 = np.transpose(np.array([ 0,  0,  0]))\n",
        "x = list();\n",
        "x.append(x0)\n",
        "\n",
        "for i in range(10):\n",
        "  x1 = np.dot(BJ, x0)+ D_inverse_b\n",
        "  x0 = x1\n",
        "  x.append(x1)\n",
        "Aproximations = np.array(x)\n",
        "print(Aproximations)"
      ],
      "metadata": {
        "colab": {
          "base_uri": "https://localhost:8080/"
        },
        "id": "WG9zvS7S9bzX",
        "outputId": "766212f3-048f-417b-e03c-2cffe17e9418"
      },
      "execution_count": 17,
      "outputs": [
        {
          "output_type": "stream",
          "name": "stdout",
          "text": [
            "BJ evalues: [-7.07106781e-01  4.88975180e-17  7.07106781e-01]\n",
            "[[0.      0.      0.     ]\n",
            " [0.5     0.      0.5    ]\n",
            " [0.5     0.5     0.5    ]\n",
            " [0.75    0.5     0.75   ]\n",
            " [0.75    0.75    0.75   ]\n",
            " [0.875   0.75    0.875  ]\n",
            " [0.875   0.875   0.875  ]\n",
            " [0.9375  0.875   0.9375 ]\n",
            " [0.9375  0.9375  0.9375 ]\n",
            " [0.96875 0.9375  0.96875]\n",
            " [0.96875 0.96875 0.96875]]\n"
          ]
        }
      ]
    },
    {
      "cell_type": "markdown",
      "source": [
        "*Because the spectral radius of matrix BJ,  P(BJ) = 7.07106781e-01 = 0.7 < 1, Jacobi Iteration does converge.*"
      ],
      "metadata": {
        "id": "kfei-QzAFh3w"
      }
    },
    {
      "cell_type": "markdown",
      "source": [
        "**Using Gauss_Siedell Iteration:**"
      ],
      "metadata": {
        "id": "bIdhkKZH-PZM"
      }
    },
    {
      "cell_type": "code",
      "source": [
        "A = np.array([[ 2, -1,  0],\n",
        "              [-1,  2, -1],\n",
        "              [ 0, -1,  2]])\n",
        "\n",
        "L = np.array([[ 0,  0,  0],\n",
        "              [-1,  0,  0],\n",
        "              [ 0, -1,  0]])\n",
        "\n",
        "D = np.array([[ 2,  0,  0],\n",
        "              [ 0,  2,  0],\n",
        "              [ 0,  0,  2]])\n",
        "\n",
        "U = np.array([[ 0, -1,  0],\n",
        "              [ 0,  0, -1],\n",
        "              [ 0,  0 ,  0]])\n",
        "\n",
        "DL_inverse =  np. linalg. inv(D+L)\n",
        "b = np.transpose(np.array([ 1,  0,  1]))\n",
        "DL_inverse_b = np.dot(DL_inverse, b)\n",
        "\n",
        "BGS = np.dot(-DL_inverse, U)\n",
        "w,v=eig(BGS)\n",
        "\n",
        "print('BGS evalues:', w)\n",
        "\n",
        "x0 = np.transpose(np.array([ 0, 0, 0]))\n",
        "x = list();\n",
        "x.append(x0)\n",
        "\n",
        "for i in range(10):\n",
        "  x1 = np.dot(BGS, x0)+ DL_inverse_b\n",
        "  x0 = x1\n",
        "  x.append(x1)\n",
        "Aproximations = np.array(x)\n",
        "print(Aproximations)"
      ],
      "metadata": {
        "colab": {
          "base_uri": "https://localhost:8080/"
        },
        "id": "bqNwgaTz-VG9",
        "outputId": "6dd7cc2a-7a2a-462e-fda1-eba96234852a"
      },
      "execution_count": 18,
      "outputs": [
        {
          "output_type": "stream",
          "name": "stdout",
          "text": [
            "BGS evalues: [0.00000000e+00 5.00000000e-01 5.55111512e-17]\n",
            "[[0.         0.         0.        ]\n",
            " [0.5        0.25       0.625     ]\n",
            " [0.625      0.625      0.8125    ]\n",
            " [0.8125     0.8125     0.90625   ]\n",
            " [0.90625    0.90625    0.953125  ]\n",
            " [0.953125   0.953125   0.9765625 ]\n",
            " [0.9765625  0.9765625  0.98828125]\n",
            " [0.98828125 0.98828125 0.99414062]\n",
            " [0.99414062 0.99414062 0.99707031]\n",
            " [0.99707031 0.99707031 0.99853516]\n",
            " [0.99853516 0.99853516 0.99926758]]\n"
          ]
        }
      ]
    },
    {
      "cell_type": "markdown",
      "source": [
        "*Because the spectral radius of matrix BGS,  P(BGS) = 5.00000000e-01 = 0.5 < 1, Gauss-Siedell Iteration does converge.*"
      ],
      "metadata": {
        "id": "HiZcVDlLEVv5"
      }
    },
    {
      "cell_type": "markdown",
      "source": [
        "**Comparison of BJ vs BGS, P(BJ) =  0.7 < 0.5 = P(BGS), Jacobi Iteration converges slower than Gauss-Siedell Iteration!**"
      ],
      "metadata": {
        "id": "MJBvLXqRGtkO"
      }
    },
    {
      "cell_type": "markdown",
      "source": [
        "# Problem 3"
      ],
      "metadata": {
        "id": "ds1Hx9qn-iyf"
      }
    },
    {
      "cell_type": "code",
      "source": [
        "# To solve Ax=b, We start by constructing the arrays for A and b.\n",
        "\n",
        "A = np.array([[ 2, -1,  1],\n",
        "              [ 2,  2,  2],\n",
        "              [-1, -1,  2]])\n",
        "b = np.transpose(np.array([-1,  4, -5]))\n",
        "# To solve the system we do\n",
        "\n",
        "x = np.linalg.solve(A,b)\n",
        "print(\"Real solution: \")\n",
        "print(x)"
      ],
      "metadata": {
        "colab": {
          "base_uri": "https://localhost:8080/"
        },
        "id": "8GwEQgCH-sO2",
        "outputId": "179c3376-6dbc-43f0-bcc7-9937e6e86b3f"
      },
      "execution_count": 19,
      "outputs": [
        {
          "output_type": "stream",
          "name": "stdout",
          "text": [
            "Real solution: \n",
            "[ 1.  2. -1.]\n"
          ]
        }
      ]
    },
    {
      "cell_type": "markdown",
      "source": [
        "**Using Jacobi Iteration:**"
      ],
      "metadata": {
        "id": "Qc1SyNCE_QcS"
      }
    },
    {
      "cell_type": "code",
      "source": [
        "A = np.array([[ 2, -1,  1],\n",
        "              [ 2,  2,  2],\n",
        "              [-1, -1,  2]])\n",
        "\n",
        "L = np.array([[ 0,  0,  0],\n",
        "              [ 2,  0,  0],\n",
        "              [-1, -1,  0]])\n",
        "\n",
        "D = np.array([[ 2,  0,  0],\n",
        "              [ 0,  2,  0],\n",
        "              [ 0,  0,  2]])\n",
        "\n",
        "U = np.array([[ 0, -1,  1],\n",
        "              [ 0,  0,  2],\n",
        "              [ 0,  0 , 0]])\n",
        "\n",
        "D_inverse =  np. linalg. inv(D)\n",
        "b = np.transpose(np.array([-1,  4, -5]))\n",
        "D_inverse_b = np.dot(D_inverse, b)\n",
        "\n",
        "BJ = np.dot(-D_inverse, L+U)\n",
        "w,v=eig(BJ)\n",
        "\n",
        "print('BJ evalues:', w)\n",
        "\n",
        "x0 = np.transpose(np.array([ 0,  0,  0]))\n",
        "x = list();\n",
        "x.append(x0)\n",
        "\n",
        "for i in range(10):\n",
        "  x1 = np.dot(BJ, x0)+ D_inverse_b\n",
        "  x0 = x1\n",
        "  x.append(x1)\n",
        "Aproximations = np.array(x)\n",
        "print(Aproximations)"
      ],
      "metadata": {
        "colab": {
          "base_uri": "https://localhost:8080/"
        },
        "id": "oxa9DP1T_UAn",
        "outputId": "d6932915-a14e-45be-9702-a321ff7d225a"
      },
      "execution_count": 24,
      "outputs": [
        {
          "output_type": "stream",
          "name": "stdout",
          "text": [
            "BJ evalues: [5.55111512e-17+1.11803399j 5.55111512e-17-1.11803399j\n",
            " 2.60097238e-17+0.j        ]\n",
            "[[ 0.          0.          0.        ]\n",
            " [-0.5         2.         -2.5       ]\n",
            " [ 1.75        5.         -1.75      ]\n",
            " [ 2.875       2.          0.875     ]\n",
            " [ 0.0625     -1.75       -0.0625    ]\n",
            " [-1.34375     2.         -3.34375   ]\n",
            " [ 2.171875    6.6875     -2.171875  ]\n",
            " [ 3.9296875   2.          1.9296875 ]\n",
            " [-0.46484375 -3.859375    0.46484375]\n",
            " [-2.66210938  2.         -4.66210938]\n",
            " [ 2.83105469  9.32421875 -2.83105469]]\n"
          ]
        }
      ]
    },
    {
      "cell_type": "markdown",
      "source": [
        "*Because the spectral radius of matrix BJ,  P(BJ) = 1.12 > 1, Jacobi Iteration does not converge.*"
      ],
      "metadata": {
        "id": "LJss7Ga6FO_j"
      }
    },
    {
      "cell_type": "markdown",
      "source": [
        "**Using Gauss_Siedell Iteration:**"
      ],
      "metadata": {
        "id": "2TC_4576C0mZ"
      }
    },
    {
      "cell_type": "code",
      "source": [
        "A = np.array([[ 2, -1,  1],\n",
        "              [ 2,  2,  2],\n",
        "              [-1, -1,  2]])\n",
        "\n",
        "L = np.array([[ 0,  0,  0],\n",
        "              [ 2,  0,  0],\n",
        "              [-1, -1,  0]])\n",
        "\n",
        "D = np.array([[ 2,  0,  0],\n",
        "              [ 0,  2,  0],\n",
        "              [ 0,  0,  2]])\n",
        "\n",
        "U = np.array([[ 0, -1,  1],\n",
        "              [ 0,  0,  2],\n",
        "              [ 0,  0 , 0]])\n",
        "\n",
        "DL_inverse =  np. linalg. inv(D+L)\n",
        "b = np.transpose(np.array([-1,  4, -5]))\n",
        "DL_inverse_b = np.dot(DL_inverse, b)\n",
        "\n",
        "BGS = np.dot(-DL_inverse, U)\n",
        "w,v=eig(BGS)\n",
        "\n",
        "print('BGS evalues:', w)\n",
        "\n",
        "x0 = np.transpose(np.array([ 0, 0, 0]))\n",
        "x = list();\n",
        "x.append(x0)\n",
        "\n",
        "for i in range(10):\n",
        "  x1 = np.dot(BGS, x0)+ DL_inverse_b\n",
        "  x0 = x1\n",
        "  x.append(x1)\n",
        "Aproximations = np.array(x)\n",
        "print(Aproximations)"
      ],
      "metadata": {
        "colab": {
          "base_uri": "https://localhost:8080/"
        },
        "id": "LR37dG1zC5Fb",
        "outputId": "851fe0be-9316-4c4c-dc1a-2b2043061f15"
      },
      "execution_count": 25,
      "outputs": [
        {
          "output_type": "stream",
          "name": "stdout",
          "text": [
            "BGS evalues: [ 0.  -0.5 -0.5]\n",
            "[[ 0.          0.          0.        ]\n",
            " [-0.5         2.5        -1.5       ]\n",
            " [ 1.5         2.         -0.75      ]\n",
            " [ 0.875       1.875      -1.125     ]\n",
            " [ 1.          2.125      -0.9375    ]\n",
            " [ 1.03125     1.90625    -1.03125   ]\n",
            " [ 0.96875     2.0625     -0.984375  ]\n",
            " [ 1.0234375   1.9609375  -1.0078125 ]\n",
            " [ 0.984375    2.0234375  -0.99609375]\n",
            " [ 1.00976562  1.98632812 -1.00195312]\n",
            " [ 0.99414062  2.0078125  -0.99902344]]\n"
          ]
        }
      ]
    },
    {
      "cell_type": "markdown",
      "source": [
        "*Because the spectral radius of matrix BGS,  P(BGS) = 0.5 < 1, Gauss-Siedell Iteration does converge.*"
      ],
      "metadata": {
        "id": "cguUGGoPENsx"
      }
    },
    {
      "cell_type": "markdown",
      "source": [
        "**Comparison of BJ vs BGS, P(BJ) = 1.12 < 0.05 = P(BGS), Jacobi Iteration does not converge at all while Gauss-Siedell Iteration does!**"
      ],
      "metadata": {
        "id": "a4exIiMZHKJ-"
      }
    },
    {
      "cell_type": "markdown",
      "source": [
        "# Problem 4"
      ],
      "metadata": {
        "id": "EuqkBzpl3LJF"
      }
    },
    {
      "cell_type": "code",
      "source": [
        "# To solve Ax=b, We start by constructing the arrays for A and b.\n",
        "\n",
        "A = np.array([[ 1,  2, -2],\n",
        "              [ 1,  1,  1],\n",
        "              [ 2,  2,  1]])\n",
        "b = np.transpose(np.array([ 7, 2, 5]))\n",
        "# To solve the system we do\n",
        "\n",
        "x = np.linalg.solve(A,b)\n",
        "print(\"Real solution: \")\n",
        "print(x)"
      ],
      "metadata": {
        "colab": {
          "base_uri": "https://localhost:8080/"
        },
        "id": "xm2GICcSSU3Z",
        "outputId": "866a66b3-a900-4fcb-9339-e90f7604fc9a"
      },
      "execution_count": 26,
      "outputs": [
        {
          "output_type": "stream",
          "name": "stdout",
          "text": [
            "Real solution: \n",
            "[ 1.  2. -1.]\n"
          ]
        }
      ]
    },
    {
      "cell_type": "markdown",
      "source": [
        "**Using Jacobi Iteration:**"
      ],
      "metadata": {
        "id": "JJnyuffl246H"
      }
    },
    {
      "cell_type": "code",
      "source": [
        "A = np.array([[1, 2, -2],\n",
        "              [1, 1,  1],\n",
        "              [2, 2, 1]])\n",
        "\n",
        "L = np.array([[0, 0, 0],\n",
        "              [1, 0, 0],\n",
        "              [2, 2, 0]])\n",
        "\n",
        "D = np.array([[1, 0, 0],\n",
        "              [0, 1, 0],\n",
        "              [0, 0, 1]])\n",
        "\n",
        "U = np.array([[0, 2, -2],\n",
        "              [0, 0,  1],\n",
        "              [0, 0,  0]])\n",
        "\n",
        "D_inverse =  np. linalg. inv(D)\n",
        "b = np.transpose(np.array([ 7,  2,  5]))\n",
        "D_inverse_b = np.dot(D_inverse, b)\n",
        "\n",
        "BJ = np.dot(-D_inverse, L+U)\n",
        "w,v=eig(BJ)\n",
        "\n",
        "print('BJ evalues:', w)\n",
        "\n",
        "x0 = np.transpose(np.array([ 0,  0,  0]))\n",
        "x = list();\n",
        "x.append(x0)\n",
        "\n",
        "for i in range(6):\n",
        "  x1 = np.dot(BJ, x0)+ D_inverse_b\n",
        "  x0 = x1\n",
        "  x.append(x1)\n",
        "Aproximations = np.array(x)\n",
        "print(Aproximations)"
      ],
      "metadata": {
        "colab": {
          "base_uri": "https://localhost:8080/"
        },
        "id": "pfqlhccaNyg4",
        "outputId": "e2a47f54-bd37-4135-e933-18ad608a5168"
      },
      "execution_count": 27,
      "outputs": [
        {
          "output_type": "stream",
          "name": "stdout",
          "text": [
            "BJ evalues: [-5.40666289e-06+9.36461231e-06j -5.40666289e-06-9.36461231e-06j\n",
            "  1.08133258e-05+0.00000000e+00j]\n",
            "[[  0.   0.   0.]\n",
            " [  7.   2.   5.]\n",
            " [ 13. -10. -13.]\n",
            " [  1.   2.  -1.]\n",
            " [  1.   2.  -1.]\n",
            " [  1.   2.  -1.]\n",
            " [  1.   2.  -1.]]\n"
          ]
        }
      ]
    },
    {
      "cell_type": "markdown",
      "source": [
        "*Because the spectral radius of matrix BJ,  P(BJ) = 1.08133258e-05 < 1, Jacobi Iteration does converge.*"
      ],
      "metadata": {
        "id": "iy3BM6MqD1Ax"
      }
    },
    {
      "cell_type": "markdown",
      "source": [
        "**Using Gaus-Siedell iteration:**"
      ],
      "metadata": {
        "id": "0UlesV9s29zR"
      }
    },
    {
      "cell_type": "code",
      "source": [
        "L = np.array([[0, 0, 0],\n",
        "              [1, 0, 0],\n",
        "              [2, 2, 0]])\n",
        "\n",
        "D = np.array([[1, 0, 0],\n",
        "              [0, 1, 0],\n",
        "              [0, 0, 1]])\n",
        "\n",
        "U = np.array([[0, 2, -2],\n",
        "              [0, 0,  1],\n",
        "              [0, 0,  0]])\n",
        "\n",
        "DL_inverse =  np. linalg. inv(D+L)\n",
        "b = np.transpose(np.array([7,2,5]))\n",
        "DL_inverse_b = np.dot(DL_inverse, b)\n",
        "\n",
        "BGS = np.dot(-DL_inverse, U)\n",
        "w,v=eig(BGS)\n",
        "\n",
        "print('BGS evalues:', w)\n",
        "\n",
        "x0 = np.transpose(np.array([ 0, 0, 0]))\n",
        "x = list();\n",
        "x.append(x0)\n",
        "\n",
        "for i in range(5):\n",
        "  x1 = np.dot(BGS, x0)+ DL_inverse_b\n",
        "  x0 = x1\n",
        "  x.append(x1)\n",
        "Aproximations = np.array(x)\n",
        "print(Aproximations)"
      ],
      "metadata": {
        "colab": {
          "base_uri": "https://localhost:8080/"
        },
        "id": "x5wLmf7cR-d3",
        "outputId": "73aea66b-22c0-4a34-a92b-390028a15511"
      },
      "execution_count": 28,
      "outputs": [
        {
          "output_type": "stream",
          "name": "stdout",
          "text": [
            "BGS evalues: [0. 2. 2.]\n",
            "[[   0.    0.    0.]\n",
            " [   7.   -5.    1.]\n",
            " [  19.  -18.    3.]\n",
            " [  49.  -50.    7.]\n",
            " [ 121. -126.   15.]\n",
            " [ 289. -302.   31.]]\n"
          ]
        }
      ]
    },
    {
      "cell_type": "markdown",
      "source": [
        "*Because the spectral radius of matrix BGS,  P(BGS) = 2 > 1, Gauss-Siedell Iteration does not converge.*"
      ],
      "metadata": {
        "id": "3ygFe6wHDa2S"
      }
    },
    {
      "cell_type": "markdown",
      "source": [
        "**Comparison of BJ vs BGS, P(BJ) = 1.08133258e-05  < 2 = P(BGS), Jacobi Iteration does converge while Gauss-Siedell Iteration does not at all!**"
      ],
      "metadata": {
        "id": "IQQabiopHcJc"
      }
    },
    {
      "cell_type": "code",
      "source": [],
      "metadata": {
        "id": "5K6JDiLwvj6M"
      },
      "execution_count": null,
      "outputs": []
    }
  ]
}