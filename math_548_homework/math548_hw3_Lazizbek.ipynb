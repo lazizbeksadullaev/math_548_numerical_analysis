{
  "nbformat": 4,
  "nbformat_minor": 0,
  "metadata": {
    "colab": {
      "provenance": []
    },
    "kernelspec": {
      "name": "python3",
      "display_name": "Python 3"
    },
    "language_info": {
      "name": "python"
    }
  },
  "cells": [
    {
      "cell_type": "markdown",
      "source": [
        "# Lazizbek Sadullaev, Math 548, HW #3"
      ],
      "metadata": {
        "id": "pilwp6ZoeC_R"
      }
    },
    {
      "cell_type": "markdown",
      "source": [
        "**Problem 1**\n",
        "\n",
        "Use the Newton’s method to find the zeros and their multiplicities of the following functions with a tolerance ε as 10^(-6)\n",
        "1.\tf(x) = x3 – 6x2 + 12x – 8\n",
        "2.\tf(x) = 3x + sin(x) – ex\n",
        "3.\tf(x) = x3 + 2x2 – x + 5\n",
        "\n",
        "Consider the function f(x) = f(x) = x^3 – 6x^2 + 12x – 8\n"
      ],
      "metadata": {
        "id": "N-Pc6oAg_UcE"
      }
    },
    {
      "cell_type": "markdown",
      "source": [
        "We need to solve f(x) = 0 for the following function:\n",
        "  f(x) = x^3 – 6x^2 + 12x – 8\n",
        "\n",
        "Using  f(x), f'(x) is\n",
        "\n",
        "  f'(x) = 3x^2 - 12x + 12\n",
        "\n",
        "To fiind the multiplicity of roots we need g(x), which is as follows:\n",
        "\n",
        "g(x) = x - f(x)/f'(x)\n",
        "that is\n",
        "g(x) = x - [x^3 – 6x^2 + 12x – 8]/[3x^2 - 12x]\n",
        "and hence,\n",
        "g'(x) = 1- [(3x^2-12*x)*(3x^2-12*x) - (x^3 - 6*x^2 + 12*x -8)*(6x-12)]/[(3*x^2-12*x)^2]"
      ],
      "metadata": {
        "id": "fmUJz9xG_3ix"
      }
    },
    {
      "cell_type": "markdown",
      "source": [
        "#In which interval it has a solution?"
      ],
      "metadata": {
        "id": "EChmkxRMU5GH"
      }
    },
    {
      "cell_type": "code",
      "source": [
        "# In which interval it has a solution?\n",
        "\n",
        "import numpy as np\n",
        "import math\n",
        "\n",
        "# f(x) = x^3 – 6*x^2 + 12*x – 8\n",
        "f0 =  (0)**3 - 6*(0)**2 + 12*0 - 8 # f0 = -8\n",
        "frightb = f0\n",
        "fleftb = f0\n",
        "fa = f0\n",
        "fc = f0\n",
        "solution_ints = list()\n",
        "b = 0\n",
        "a = 0\n",
        "c = 0\n",
        "for b in range(100):\n",
        "  frightb = (b)**3 - 6*(b)**2 + 12*(b) - 8\n",
        "  fleftb = (-b)**3 - 6*(-b)**2 + 12*(-b) - 8\n",
        "  if np.sign(fleftb) * np.sign(fa) <= 0: # fleftb >= 0:\n",
        "    solution_ints.append([-b, a])\n",
        "    a = -b\n",
        "    fa = fleftb\n",
        "    # continue\n",
        "    # break\n",
        "  if np.sign(frightb) * np.sign(fc) <= 0:\n",
        "    solution_ints.append([c, b])\n",
        "    c = b\n",
        "    fc = frightb\n",
        "    # continue\n",
        "    # break\n",
        "\n",
        "# if fleftb >= 0:\n",
        "#   solution_int = [-b, 0]\n",
        "# else:\n",
        "#   solution_int = [0, b]\n",
        "\n",
        "print(\"solution intervals = \", solution_ints)"
      ],
      "metadata": {
        "colab": {
          "base_uri": "https://localhost:8080/"
        },
        "id": "ftnQPzCCB7RT",
        "outputId": "44baee19-11b9-4b2b-f24f-cd771a29ffa8"
      },
      "execution_count": 35,
      "outputs": [
        {
          "output_type": "stream",
          "name": "stdout",
          "text": [
            "solution intervals =  [[0, 2], [2, 3]]\n"
          ]
        }
      ]
    },
    {
      "cell_type": "markdown",
      "source": [
        "#Determine this solution using the Newton's method with a tolerance ε as 10^(-6)"
      ],
      "metadata": {
        "id": "pRW6bDmsUwMK"
      }
    },
    {
      "cell_type": "code",
      "source": [
        "# Determine this solution using the Newton's method with a tolerance ε as 10^(-6)\n",
        "from scipy.optimize import fsolve\n",
        "\n",
        "\n",
        "M = 10**6 # in case the program goes into infinite loops\n",
        "epsilon = 10**(-6)\n",
        "\n",
        "for i in range(len(solution_ints)):\n",
        "  solution_int = solution_ints[i]\n",
        "\n",
        "  print(f\"\\nRoot {i+1} of f(x) in {solution_int} is as follows: \")\n",
        "  x0 = solution_int[1] # starting from right!\n",
        "  v = (x0)**3 - 6*(x0)**2 + 12*(x0) - 8  # starting function value on the right\n",
        "\n",
        "  print(\"steps\", \"\\t \", \"x\", \"\\t\", \"\\t\", \"\\t\", \"f(x)\")\n",
        "\n",
        "  if abs(v) < epsilon:\n",
        "    print(0, \"\\t \", x0, \"\\t\", v)\n",
        "    x1 = x0\n",
        "    mnumer = (3*(x1)**2 - 12*(x1) + 12)**2\n",
        "    mdenom = (3*(x1)**2 - 12*(x1) + 12)**2 - (x1**3-6*(x1)**2+12*(x1)-8)*(6*(x1)-12)+0.00000001\n",
        "    m = math.ceil(mnumer/mdenom)\n",
        "    print(f\"multipilicity of the root {x1} is {m}\")\n",
        "\n",
        "  else:\n",
        "    for k in range(1, M):\n",
        "      x1 = x0 - v/(3*(x0)**2 - 12*(x0) + 12)\n",
        "      v = (x1)**3 - 6*(x1)**2 + 12*(x1) - 8\n",
        "      print(k, \"\\t \", x1, \"\\t\", v)\n",
        "      if abs(v) < epsilon:\n",
        "        print(f\"\\nSo the approximate solution {i+1} after {k} steps is = {x1}\")\n",
        "        # The function fsolve takes in many arguments that you can find in the documentation,\n",
        "        # but the most important two is the function you want to find the root, and the initial guess interval.\n",
        "        f = lambda x: (x)**3 - 6*(x)**2 + 12*(x) - 8\n",
        "        mnumer = (3*(x1)**2 - 12*(x1) + 12)**2\n",
        "        mdenom = (3*(x1)**2 - 12*(x1) + 12)**2 - (x1**3-6*(x1)**2+12*(x1)-8)*(6*(x1)-12)\n",
        "        m = math.ceil(mnumer/mdenom)\n",
        "\n",
        "        print(\"Using Python's fsolve function, fsolve(f, [2, 3]) = \",  *fsolve(f, solution_int[i]), '\\n')\n",
        "        print(f\"multipilicity of the root {x1} is {m}\")\n",
        "        break\n",
        "      x0 = x1"
      ],
      "metadata": {
        "colab": {
          "base_uri": "https://localhost:8080/"
        },
        "id": "oawQiE0TBdr5",
        "outputId": "e173589e-e596-4356-c1a1-305257e6ea21"
      },
      "execution_count": 36,
      "outputs": [
        {
          "output_type": "stream",
          "name": "stdout",
          "text": [
            "\n",
            "Root 1 of f(x) in [0, 2] is as follows: \n",
            "steps \t  x \t \t \t f(x)\n",
            "0 \t  2 \t 0\n",
            "multipilicity of the root 2 is 0\n",
            "\n",
            "Root 2 of f(x) in [2, 3] is as follows: \n",
            "steps \t  x \t \t \t f(x)\n",
            "1 \t  2.6666666666666665 \t 0.29629629629629406\n",
            "2 \t  2.444444444444446 \t 0.08779149519889984\n",
            "3 \t  2.296296296296304 \t 0.026012294873751785\n",
            "4 \t  2.1975308641975326 \t 0.007707346629256762\n",
            "5 \t  2.1316872427983755 \t 0.00228365826052368\n",
            "6 \t  2.0877914951988896 \t 0.000676639484598951\n",
            "7 \t  2.0585276634659078 \t 0.00020048577321318817\n",
            "8 \t  2.0390184423107027 \t 5.940319206487743e-05\n",
            "9 \t  2.026012294873587 \t 1.7600945799500778e-05\n",
            "10 \t  2.017341529914125 \t 5.2150950473617286e-06\n",
            "11 \t  2.0115610199449137 \t 1.5452133510507338e-06\n",
            "12 \t  2.007707346624346 \t 4.578409900091174e-07\n",
            "\n",
            "So the approximate solution 2 after 12 steps is = 2.007707346624346\n",
            "Using Python's fsolve function, fsolve(f, [2, 3]) =  2.0000129913185325 \n",
            "\n",
            "multipilicity of the root 2.007707346624346 is 3\n"
          ]
        }
      ]
    },
    {
      "cell_type": "markdown",
      "source": [
        "**Problem 2. Find the roots and their multiplicity for the following function:**\n",
        "\n",
        "f(x) = 3*x + sin(x) - exp(x)\n"
      ],
      "metadata": {
        "id": "fpc302I9P8hK"
      }
    },
    {
      "cell_type": "markdown",
      "source": [
        "#In which interval it has a solution?"
      ],
      "metadata": {
        "id": "LpVNbjhxU9uv"
      }
    },
    {
      "cell_type": "code",
      "source": [
        "# In which interval it has a solution?\n",
        "\n",
        "import numpy as np\n",
        "import math\n",
        "\n",
        "# f(x) = 3*x + sin(x) - exp(x)\n",
        "f0 =  3*(0) + math.sin(0) - math.exp(0) # f0 = -1\n",
        "frightb = f0\n",
        "fleftb = f0\n",
        "fa = f0\n",
        "fc = f0\n",
        "solution_ints = list()\n",
        "b = 0\n",
        "a = 0\n",
        "c = 0\n",
        "for b in range(100):\n",
        "  frightb = 3*(b) + math.sin(b) - math.exp(b)\n",
        "  fleftb = 3*(-b) + math.sin(-b) - math.exp(-b)\n",
        "  if np.sign(fleftb) * np.sign(fa) <= 0: # fleftb >= 0:\n",
        "    solution_ints.append([-b, a])\n",
        "    a = -b\n",
        "    fa = fleftb\n",
        "    # continue\n",
        "    # break\n",
        "  if np.sign(frightb) * np.sign(fc) <= 0:\n",
        "    solution_ints.append([c, b])\n",
        "    c = b\n",
        "    fc = frightb\n",
        "    # continue\n",
        "    # break\n",
        "\n",
        "print(\"solution intervals = \", solution_ints)"
      ],
      "metadata": {
        "colab": {
          "base_uri": "https://localhost:8080/"
        },
        "id": "Bb0HlQ34Tnp2",
        "outputId": "fdfef922-1dda-4240-a669-b9b3c0acf0f9"
      },
      "execution_count": 37,
      "outputs": [
        {
          "output_type": "stream",
          "name": "stdout",
          "text": [
            "solution intervals =  [[0, 1], [1, 2]]\n"
          ]
        }
      ]
    },
    {
      "cell_type": "markdown",
      "source": [
        "# Determine this solution using the Newton's method with a tolerance ε as 10^(-6)"
      ],
      "metadata": {
        "id": "Wz3vPEV8UngO"
      }
    },
    {
      "cell_type": "code",
      "source": [
        "# Determine this solution using the Newton's method with a tolerance ε as 10^(-6)\n",
        "from scipy.optimize import fsolve\n",
        "\n",
        "\n",
        "M = 10**6 # in case the program goes into infinite loops\n",
        "epsilon = 10**(-6)\n",
        "\n",
        "for i in range(len(solution_ints)):\n",
        "  solution_int = solution_ints[i]\n",
        "\n",
        "  print(f\"\\nRoot {i+1} of f(x) in {solution_int} is as follows: \")\n",
        "  x0 = solution_int[1] # starting from right!\n",
        "  v = 3*(x0) + math.sin(x0) - math.exp(x0)  # starting function value on the right\n",
        "\n",
        "  print(\"steps\", \"\\t \", \"x\", \"\\t\", \"\\t\", \"\\t\", \"f(x)\")\n",
        "\n",
        "  if abs(v) < epsilon:\n",
        "    print(0, \"\\t \", x0, \"\\t\", v)\n",
        "    x1 = x0\n",
        "    mnumer = (3 + math.cos(x0) - math.exp(x0))**2\n",
        "    mdenom = (3 + math.cos(x0) - math.exp(x0))**2 - (3*(x0) + math.sin(x0) - math.exp(x0))*(-math.sin(x0) - math.exp(x0))+0.00000001\n",
        "    m = math.ceil(mnumer/mdenom)\n",
        "    print(f\"multipilicity of the root {x1} is {m}\")\n",
        "\n",
        "  else:\n",
        "    for k in range(1, M):\n",
        "      x1 = x0 - v/(3 + math.cos(x0) - math.exp(x0))\n",
        "      v = 3*(x1) + math.sin(x1) - math.exp(x1)\n",
        "      print(k, \"\\t \", x1, \"\\t\", v)\n",
        "      if abs(v) < epsilon:\n",
        "        print(f\"\\nSo the approximate solution {i+1} after {k} steps is = {x1}\")\n",
        "        # The function fsolve takes in many arguments that you can find in the documentation,\n",
        "        # but the most important two is the function you want to find the root, and the initial guess interval.\n",
        "        f = lambda x: 3*(x) + math.sin(x) - math.exp(x)\n",
        "        mnumer = (3 + math.cos(x1) - math.exp(x1))**2\n",
        "        mdenom = (3 + math.cos(x1) - math.exp(x1))**2 - (3*(x1) + math.sin(x1) - math.exp(x1))*(-math.sin(x1) - math.exp(x1))\n",
        "        m = math.ceil(mnumer/mdenom)\n",
        "\n",
        "        print(\"Using Python's fsolve function, fsolve(f, [2, 3]) = \",  *fsolve(f, solution_int[i]), '\\n')\n",
        "        print(f\"multipilicity of the root {x1} is {m}\")\n",
        "        break\n",
        "      x0 = x1"
      ],
      "metadata": {
        "colab": {
          "base_uri": "https://localhost:8080/"
        },
        "id": "zkazPGkKVJgz",
        "outputId": "f9a4f44e-6e6f-42b3-d4df-2fc055702f43"
      },
      "execution_count": 38,
      "outputs": [
        {
          "output_type": "stream",
          "name": "stdout",
          "text": [
            "\n",
            "Root 1 of f(x) in [0, 1] is as follows: \n",
            "steps \t  x \t \t \t f(x)\n",
            "1 \t  -0.36637612713615453 \t -2.150604815590466\n",
            "2 \t  0.2973109717828175 \t -0.16135074521464943\n",
            "3 \t  0.35913369571868037 \t -0.003223835922048668\n",
            "4 \t  0.3604211118264446 \t -1.4789074491705634e-06\n",
            "5 \t  0.36042170296019965 \t -3.11972669919669e-13\n",
            "\n",
            "So the approximate solution 1 after 5 steps is = 0.36042170296019965\n",
            "Using Python's fsolve function, fsolve(f, [2, 3]) =  0.36042170296032444 \n",
            "\n",
            "multipilicity of the root 0.36042170296019965 is 2\n",
            "\n",
            "Root 2 of f(x) in [1, 2] is as follows: \n",
            "steps \t  x \t \t \t f(x)\n",
            "1 \t  1.9001584993293805 \t -0.040229903441028725\n",
            "2 \t  1.890127089552709 \t -0.00038299329612900834\n",
            "3 \t  1.8900297383710072 \t -3.5868799486138414e-08\n",
            "\n",
            "So the approximate solution 2 after 3 steps is = 1.8900297383710072\n",
            "Using Python's fsolve function, fsolve(f, [2, 3]) =  1.8900297292520694 \n",
            "\n",
            "multipilicity of the root 1.8900297383710072 is 2\n"
          ]
        }
      ]
    },
    {
      "cell_type": "markdown",
      "source": [
        "**Problem 3. Find the roots and their multiplicity for the following function:**\n",
        "\n",
        "f(x) = x^3 + 2*x^2 - x +5, so\n",
        "\n",
        "f'(x) = 3x^2 + 4*x - 1\n",
        "\n",
        "g(x) = x - f(x)/f'(x) that is\n",
        "\n",
        "g(x) = x - [x^3 + 2*x^2 - x +5]/[3x^2 + 4*x - 1]"
      ],
      "metadata": {
        "id": "YTsiD1UfUH59"
      }
    },
    {
      "cell_type": "markdown",
      "source": [
        "# In which interval it has a solution?"
      ],
      "metadata": {
        "id": "ZZtlDelZY87f"
      }
    },
    {
      "cell_type": "code",
      "source": [
        "# In which interval it has a solution?\n",
        "\n",
        "import numpy as np\n",
        "import math\n",
        "\n",
        "# f(x) = x^3 + 2*x^2 - x +5, so\n",
        "f0 =  (0)**3 + 2*(0)**2 - (0) + 5 # f0 = 5\n",
        "frightb = f0\n",
        "fleftb = f0\n",
        "fa = f0\n",
        "fc = f0\n",
        "solution_ints = list()\n",
        "b = 0\n",
        "a = 0\n",
        "c = 0\n",
        "for b in range(100):\n",
        "  frightb = (b)**3 + 2*(b)**2 - (b) + 5\n",
        "  fleftb = (-b)**3 + 2*(-b)**2 - (-b) + 5\n",
        "  if np.sign(fleftb) * np.sign(fa) <= 0: # fleftb >= 0:\n",
        "    solution_ints.append([-b, a])\n",
        "    a = -b\n",
        "    fa = fleftb\n",
        "    # continue\n",
        "    # break\n",
        "  if np.sign(frightb) * np.sign(fc) <= 0:\n",
        "    solution_ints.append([c, b])\n",
        "    c = b\n",
        "    fc = frightb\n",
        "    # continue\n",
        "    # break\n",
        "\n",
        "print(\"solution intervals = \", solution_ints)"
      ],
      "metadata": {
        "colab": {
          "base_uri": "https://localhost:8080/"
        },
        "id": "jOTuyTnLZC1M",
        "outputId": "652fc979-ed90-4634-abdc-da664e6e4d26"
      },
      "execution_count": 39,
      "outputs": [
        {
          "output_type": "stream",
          "name": "stdout",
          "text": [
            "solution intervals =  [[-3, 0]]\n"
          ]
        }
      ]
    },
    {
      "cell_type": "markdown",
      "source": [
        "# Determine this solution using the Newton's method with a tolerance ε as 10^(-6)"
      ],
      "metadata": {
        "id": "aRQVq-bmZ7fk"
      }
    },
    {
      "cell_type": "code",
      "source": [
        "# Determine this solution using the Newton's method with a tolerance ε as 10^(-6)\n",
        "from scipy.optimize import fsolve\n",
        "\n",
        "\n",
        "M = 10**6 # in case the program goes into infinite loops\n",
        "epsilon = 10**(-6)\n",
        "\n",
        "for i in range(len(solution_ints)):\n",
        "  solution_int = solution_ints[i]\n",
        "\n",
        "  print(f\"\\nRoot {i+1} of f(x) in {solution_int} is as follows: \")\n",
        "  x0 = solution_int[1] # starting from right!\n",
        "  v = (x0)**3 + 2*(x0)**2 - (x0) + 5  # starting function value on the right\n",
        "\n",
        "  print(\"steps\", \"\\t \", \"x\", \"\\t\", \"\\t\", \"\\t\", \"f(x)\")\n",
        "\n",
        "  if abs(v) < epsilon:\n",
        "    print(0, \"\\t \", x0, \"\\t\", v)\n",
        "    x1 = x0\n",
        "    mnumer = (3*(x1)**2 + 4*(x1) - 1)**2\n",
        "    mdenom = (3*(x1)**2 + 4*(x1) - 1)**2 - ((x1)**3 + 2*(x1)**2 - (x1) + 5)*(6*(x1) + 4)\n",
        "    m = math.ceil(mnumer/mdenom)\n",
        "    print(f\"multipilicity of the root {x1} is {m}\")\n",
        "\n",
        "  else:\n",
        "    for k in range(1, M):\n",
        "      x1 = x0 - v/(3*(x0)**2 + 4*(x0) - 1)\n",
        "      v = (x1)**3 + 2*(x1)**2 - (x1) + 5\n",
        "      print(k, \"\\t \", x1, \"\\t\", v)\n",
        "      if abs(v) < epsilon:\n",
        "        print(f\"\\nSo the approximate solution {i+1} after {k} steps is = {x1}\")\n",
        "        # The function fsolve takes in many arguments that you can find in the documentation,\n",
        "        # but the most important two is the function you want to find the root, and the initial guess interval.\n",
        "        f = lambda x: (x)**3 + 2*(x)**2 - (x) + 5\n",
        "        mnumer = (3*(x1)**2 + 4*(x1) - 1)**2\n",
        "        mdenom = (3*(x1)**2 + 4*(x1) - 1)**2 - ((x1)**3 + 2*(x1)**2 - (x1) + 5)*(6*(x1) + 4)\n",
        "        m = math.ceil(mnumer/mdenom)\n",
        "\n",
        "        print(\"Using Python's fsolve function, fsolve(f, [2, 3]) = \",  *fsolve(f, solution_int[i]), '\\n')\n",
        "        print(f\"multipilicity of the root {x1} is {m}\")\n",
        "        break\n",
        "      x0 = x1"
      ],
      "metadata": {
        "colab": {
          "base_uri": "https://localhost:8080/"
        },
        "id": "Z_tF80w8Z3kZ",
        "outputId": "89ee4b04-7626-4e73-ba1f-588b212a77e8"
      },
      "execution_count": 40,
      "outputs": [
        {
          "output_type": "stream",
          "name": "stdout",
          "text": [
            "\n",
            "Root 1 of f(x) in [-3, 0] is as follows: \n",
            "steps \t  x \t \t \t f(x)\n",
            "1 \t  5.0 \t 175.0\n",
            "2 \t  3.1382978723404253 \t 52.46835359217129\n",
            "3 \t  1.8616934859960816 \t 16.522560145770363\n",
            "4 \t  0.8808048904580849 \t 6.354173252005777\n",
            "5 \t  -0.4291526027740141 \t 5.718458641233335\n",
            "6 \t  2.213272915641604 \t 23.425768879904812\n",
            "7 \t  1.1743819175071568 \t 8.203639559808785\n",
            "8 \t  0.12733775088209542 \t 4.907156823970613\n",
            "9 \t  11.229394804151823 \t 1661.9881308595734\n",
            "10 \t  7.293044475648373 \t 491.9900304644102\n",
            "11 \t  4.6724194958561345 \t 145.9965330523334\n",
            "12 \t  2.9173199586764627 \t 43.93278911139917\n",
            "13 \t  1.7037588630606766 \t 14.047491117862874\n",
            "14 \t  0.736528498748558 \t 5.7479676900294905\n",
            "15 \t  -0.8719530139022694 \t 6.72960945946436\n",
            "16 \t  2.1773883828881027 \t 22.627694198041\n",
            "17 \t  1.1456967589271099 \t 7.983411065960323\n",
            "18 \t  0.08416473362343835 \t 4.930598869072748\n",
            "19 \t  7.763149282384072 \t 585.6275578812479\n",
            "20 \t  4.985715830206242 \t 173.66075376249427\n",
            "21 \t  3.1286784994696055 \t 52.07405337702536\n",
            "22 \t  1.8548701032847257 \t 16.407976632197148\n",
            "23 \t  0.8747692071568675 \t 6.325065036920487\n",
            "24 \t  -0.44439817353026767 \t 5.75161356855187\n",
            "25 \t  2.1877704934187294 \t 22.856321807199375\n",
            "26 \t  1.1540202797860646 \t 8.04638661869951\n",
            "27 \t  0.09686669146890359 \t 4.922808535632493\n",
            "28 \t  8.520797708856502 \t 760.3311317619263\n",
            "29 \t  5.490324356782977 \t 225.29547789900838\n",
            "30 \t  3.467783174015986 \t 67.28515351713844\n",
            "31 \t  2.0931493715731797 \t 20.840060742258796\n",
            "32 \t  1.0773746713519516 \t 7.494645456705217\n",
            "33 \t  -0.026124817037121106 \t 5.027471998821486\n",
            "34 \t  4.53414006442972 \t 134.79749573314658\n",
            "35 \t  2.8237689060159634 \t 40.6393765326499\n",
            "36 \t  1.6360417648873644 \t 13.0963063632472\n",
            "37 \t  0.6712381975441831 \t 5.532316802269266\n",
            "38 \t  -1.1506195182606103 \t 7.275135806808504\n",
            "39 \t  3.310731918692154 \t 59.8999129992937\n",
            "40 \t  1.9833325327554419 \t 18.685535927771372\n",
            "41 \t  0.9859276864982258 \t 6.916553482285471\n",
            "42 \t  -0.19439753489235168 \t 5.2626319771285655\n",
            "43 \t  2.967825816204325 \t 45.788734668885894\n",
            "44 \t  1.7400902244496144 \t 14.58458128712545\n",
            "45 \t  0.7706351883106989 \t 5.874785740321428\n",
            "46 \t  -0.749685037536089 \t 6.452396624533112\n",
            "47 \t  2.04035088746476 \t 19.77975811386166\n",
            "48 \t  1.033772971377069 \t 7.208379418150912\n",
            "49 \t  -0.10298891739532734 \t 5.123109977295958\n",
            "50 \t  3.6090450890517545 \t 74.44992521017755\n",
            "51 \t  2.191269929825496 \t 22.93379960982757\n",
            "52 \t  1.1568213184766531 \t 8.067749235573045\n",
            "53 \t  0.10110845262877777 \t 4.920371009298146\n",
            "54 \t  8.811310927256951 \t 835.5702231925513\n",
            "55 \t  5.683741954031284 \t 247.53894714944005\n",
            "56 \t  3.5974419225653724 \t 73.8423474551083\n",
            "57 \t  2.183231291423289 \t 22.756135939832614\n",
            "58 \t  1.1503836015154016 \t 8.018778706492416\n",
            "59 \t  0.09133502732029997 \t 4.9261110718746455\n",
            "60 \t  8.17178012903376 \t 676.0792564644771\n",
            "61 \t  5.257910313197578 \t 200.39152645317293\n",
            "62 \t  3.311766405259733 \t 59.9466077677265\n",
            "63 \t  1.9840587062175428 \t 18.69914436583413\n",
            "64 \t  0.9865423320107265 \t 6.920157098900433\n",
            "65 \t  -0.19317066600346955 \t 5.26059233312859\n",
            "66 \t  2.974452707506985 \t 46.03636551715435\n",
            "67 \t  1.7448462200912267 \t 14.656294401236927\n",
            "68 \t  0.7750559739221745 \t 5.891952791798331\n",
            "69 \t  -0.7347878190885944 \t 6.417892499287955\n",
            "70 \t  2.0322466228869587 \t 19.621038123832626\n",
            "71 \t  1.0270223654256 \t 7.1658049656732885\n",
            "72 \t  -0.11540934379920276 \t 5.140510803478694\n",
            "73 \t  3.5003923003978876 \t 68.8945188686003\n",
            "74 \t  2.1158508064303545 \t 21.310091478077936\n",
            "75 \t  1.0959304084816037 \t 7.622478480574999\n",
            "76 \t  0.004965120151972036 \t 4.995084307086493\n",
            "77 \t  5.101648954436591 \t 184.73170467481836\n",
            "78 \t  3.2067133504538825 \t 55.333974765125646\n",
            "79 \t  1.9101034536506718 \t 17.355890242762158\n",
            "80 \t  0.9231826358533781 \t 6.568147060137256\n",
            "81 \t  -0.3280052248089549 \t 5.507890841468499\n",
            "82 \t  2.4408106521949122 \t 29.01557033518611\n",
            "83 \t  1.3514704501550474 \t 9.769897751537506\n",
            "84 \t  0.36314447061566424 \t 4.948492622439825\n",
            "85 \t  -5.470968879958397 \t -93.42033783557885\n",
            "86 \t  -4.074773036205313 \t -25.374292248362906\n",
            "87 \t  -3.294319363060974 \t -5.752333382548759\n",
            "88 \t  -2.981358203289968 \t -0.7414409838180802\n",
            "89 \t  -2.9273962028077865 \t -0.020063301654699828\n",
            "90 \t  -2.92585279601999 \t -1.6152205533970232e-05\n",
            "91 \t  -2.9258515514779044 \t -1.050182163453428e-11\n",
            "\n",
            "So the approximate solution 1 after 91 steps is = -2.9258515514779044\n",
            "Using Python's fsolve function, fsolve(f, [2, 3]) =  -2.9258515514770953 \n",
            "\n",
            "multipilicity of the root -2.9258515514779044 is 2\n"
          ]
        }
      ]
    }
  ]
}